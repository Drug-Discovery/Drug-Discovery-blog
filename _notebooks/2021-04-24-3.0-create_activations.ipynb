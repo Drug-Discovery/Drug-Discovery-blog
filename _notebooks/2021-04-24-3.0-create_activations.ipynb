{
 "cells": [
  {
   "cell_type": "markdown",
   "metadata": {},
   "source": [
    "# 3 - Create activations\n",
    "- categories: [jupyter, activations]"
   ]
  },
  {
   "cell_type": "markdown",
   "metadata": {},
   "source": [
    "## DATASETS:\n",
    "(a) Carbonic Anhydrase II (ChEMBL205), a protein lyase,  \n",
    "(b) Cyclin-dependent kinase 2 (CHEMBL301), a protein kinase,  \n",
    "(c) ether-a-go-go-related gene potassium channel 1 (HERG) (CHEMBL240), a voltage-gated ion channel,  \n",
    "(d) Dopamine D4 receptor (CHEMBL219), a monoamine GPCR,  \n",
    "(e) Coagulation factor X (CHEMBL244), a serine protease,  \n",
    "(f) Cannabinoid CB1 receptor (CHEMBL218), a lipid-like GPCR and  \n",
    "(g) Cytochrome P450 19A1 (CHEMBL1978), a cytochrome P450.  \n",
    "The activity classes were selected based on data availability and as representatives of therapeutically important target classes or as anti-targets."
   ]
  },
  {
   "cell_type": "markdown",
   "metadata": {},
   "source": [
    "In this notebook we will create an fastai cnn learner on the same dataset as in the last notebook and then extract the second to last layer with a so called hook. We can then apply the activations from this layer to every image in the dataset. In the next notebook we will use these activations to hopefully better the performance of our Random Forest model. "
   ]
  },
  {
   "cell_type": "code",
   "execution_count": 1,
   "metadata": {},
   "outputs": [],
   "source": [
    "#hide\n",
    "top_mcc_scores = {\n",
    "    \n",
    "    'CHEMBL205': 0.862,\n",
    "    'CHEMBL301': 0.926,\n",
    "    'CHEMBL240': 0.884,\n",
    "    'CHEMBL219': 0.887,\n",
    "    'CHEMBL244': 0.983,\n",
    "    'CHEMBL218': 0.941,\n",
    "    'CHEMBL1978': 0.904}"
   ]
  },
  {
   "cell_type": "code",
   "execution_count": 2,
   "metadata": {
    "scrolled": true
   },
   "outputs": [
    {
     "name": "stdout",
     "output_type": "stream",
     "text": [
      "Mon Apr 26 14:44:31 2021       \n",
      "+-----------------------------------------------------------------------------+\n",
      "| NVIDIA-SMI 450.36.06    Driver Version: 450.36.06    CUDA Version: 11.0     |\n",
      "|-------------------------------+----------------------+----------------------+\n",
      "| GPU  Name        Persistence-M| Bus-Id        Disp.A | Volatile Uncorr. ECC |\n",
      "| Fan  Temp  Perf  Pwr:Usage/Cap|         Memory-Usage | GPU-Util  Compute M. |\n",
      "|                               |                      |               MIG M. |\n",
      "|===============================+======================+======================|\n",
      "|   0  Quadro P5000        On   | 00000000:00:05.0 Off |                  Off |\n",
      "| 42%   70C    P0   139W / 180W |   2789MiB / 16278MiB |     95%      Default |\n",
      "|                               |                      |                  N/A |\n",
      "+-------------------------------+----------------------+----------------------+\n",
      "                                                                               \n",
      "+-----------------------------------------------------------------------------+\n",
      "| Processes:                                                                  |\n",
      "|  GPU   GI   CI        PID   Type   Process name                  GPU Memory |\n",
      "|        ID   ID                                                   Usage      |\n",
      "|=============================================================================|\n",
      "+-----------------------------------------------------------------------------+\n",
      "WARNING: infoROM is corrupted at gpu 0000:00:05.0\n"
     ]
    }
   ],
   "source": [
    "#hide\n",
    "!nvidia-smi"
   ]
  },
  {
   "cell_type": "code",
   "execution_count": 3,
   "metadata": {},
   "outputs": [],
   "source": [
    "#hide\n",
    "import pandas as pd\n",
    "import numpy as np\n",
    "from pathlib import Path"
   ]
  },
  {
   "cell_type": "code",
   "execution_count": 4,
   "metadata": {},
   "outputs": [],
   "source": [
    "dataset='CHEMBL205_cl'"
   ]
  },
  {
   "cell_type": "code",
   "execution_count": 5,
   "metadata": {},
   "outputs": [],
   "source": [
    "#hide\n",
    "path = Path('dataset/13321_2017_226_MOESM1_ESM/')\n",
    "df = pd.read_csv(path/f'{dataset}.csv')"
   ]
  },
  {
   "cell_type": "code",
   "execution_count": 6,
   "metadata": {},
   "outputs": [
    {
     "data": {
      "text/plain": [
       "[PosixPath('dataset/13321_2017_226_MOESM1_ESM/CHEMBL205_cl_ecfp_1024.csv'),\n",
       " PosixPath('dataset/13321_2017_226_MOESM1_ESM/CHEMBL205_cl.csv'),\n",
       " PosixPath('dataset/13321_2017_226_MOESM1_ESM/mol_images')]"
      ]
     },
     "execution_count": 6,
     "metadata": {},
     "output_type": "execute_result"
    }
   ],
   "source": [
    "#hide\n",
    "list(path.iterdir())"
   ]
  },
  {
   "cell_type": "markdown",
   "metadata": {},
   "source": [
    "# Generate activations"
   ]
  },
  {
   "cell_type": "code",
   "execution_count": 7,
   "metadata": {},
   "outputs": [],
   "source": [
    "IMAGES=path/'mol_images'/f'{dataset}'"
   ]
  },
  {
   "cell_type": "markdown",
   "metadata": {},
   "source": [
    "## Create train validation split"
   ]
  },
  {
   "cell_type": "code",
   "execution_count": 8,
   "metadata": {},
   "outputs": [],
   "source": [
    "#hide\n",
    "from sklearn.model_selection import train_test_split"
   ]
  },
  {
   "cell_type": "code",
   "execution_count": 9,
   "metadata": {},
   "outputs": [],
   "source": [
    "def get_df(data):\n",
    "    \n",
    "    name = data.stem\n",
    "    \n",
    "    df = pd.read_csv(data)\n",
    "    df['Image'] = df['CID'].apply(lambda x: f'{str(x)}.png')\n",
    "    \n",
    "    df = df[['CID', 'SMILES', 'Image', 'Activity']]\n",
    "    \n",
    "    return df, name"
   ]
  },
  {
   "cell_type": "code",
   "execution_count": 10,
   "metadata": {},
   "outputs": [],
   "source": [
    "x_train,x_val = train_test_split(df.index, test_size=0.25, stratify=df['Activity'], \n",
    "                                     random_state=42)\n",
    "df.loc[x_train, 'is_valid']=False\n",
    "df.loc[x_val, 'is_valid']=True"
   ]
  },
  {
   "cell_type": "markdown",
   "metadata": {},
   "source": [
    "## Create dataloader"
   ]
  },
  {
   "cell_type": "code",
   "execution_count": 11,
   "metadata": {
    "scrolled": false
   },
   "outputs": [],
   "source": [
    "#hide\n",
    "from fastai.vision.all import *"
   ]
  },
  {
   "cell_type": "code",
   "execution_count": 12,
   "metadata": {
    "scrolled": true
   },
   "outputs": [
    {
     "data": {
      "text/html": [
       "<div>\n",
       "<style scoped>\n",
       "    .dataframe tbody tr th:only-of-type {\n",
       "        vertical-align: middle;\n",
       "    }\n",
       "\n",
       "    .dataframe tbody tr th {\n",
       "        vertical-align: top;\n",
       "    }\n",
       "\n",
       "    .dataframe thead th {\n",
       "        text-align: right;\n",
       "    }\n",
       "</style>\n",
       "<table border=\"1\" class=\"dataframe\">\n",
       "  <thead>\n",
       "    <tr style=\"text-align: right;\">\n",
       "      <th></th>\n",
       "      <th>CID</th>\n",
       "      <th>SMILES</th>\n",
       "      <th>Activity</th>\n",
       "      <th>is_valid</th>\n",
       "      <th>Image</th>\n",
       "    </tr>\n",
       "  </thead>\n",
       "  <tbody>\n",
       "    <tr>\n",
       "      <th>0</th>\n",
       "      <td>CHEMBL188002</td>\n",
       "      <td>S(=O)(=O)(N)c1cc(N/C(/S)=N\\c2cc(C(=O)[O-])c(cc2)C=2c3c(OC4=CC(=O)C=CC=24)cc(O)cc3)ccc1</td>\n",
       "      <td>1</td>\n",
       "      <td>True</td>\n",
       "      <td>CHEMBL188002.png</td>\n",
       "    </tr>\n",
       "    <tr>\n",
       "      <th>1</th>\n",
       "      <td>CHEMBL364127</td>\n",
       "      <td>Clc1ccc(cc1)C(=O)NC1Cc2cc(S(=O)(=O)N)ccc2C1</td>\n",
       "      <td>1</td>\n",
       "      <td>False</td>\n",
       "      <td>CHEMBL364127.png</td>\n",
       "    </tr>\n",
       "    <tr>\n",
       "      <th>2</th>\n",
       "      <td>CHEMBL1683469</td>\n",
       "      <td>S(=O)(=O)(N)c1ccc(cc1)CNS(=O)(=O)CC12CCC(CC1=O)C2(C)C</td>\n",
       "      <td>1</td>\n",
       "      <td>False</td>\n",
       "      <td>CHEMBL1683469.png</td>\n",
       "    </tr>\n",
       "    <tr>\n",
       "      <th>3</th>\n",
       "      <td>CHEMBL52564</td>\n",
       "      <td>Oc1ccccc1\\C=C\\C(=O)[O-]</td>\n",
       "      <td>1</td>\n",
       "      <td>False</td>\n",
       "      <td>CHEMBL52564.png</td>\n",
       "    </tr>\n",
       "    <tr>\n",
       "      <th>4</th>\n",
       "      <td>CHEMBL21427</td>\n",
       "      <td>OB(O)c1ccc(OC)cc1</td>\n",
       "      <td>1</td>\n",
       "      <td>False</td>\n",
       "      <td>CHEMBL21427.png</td>\n",
       "    </tr>\n",
       "  </tbody>\n",
       "</table>\n",
       "</div>"
      ],
      "text/plain": [
       "             CID  \\\n",
       "0   CHEMBL188002   \n",
       "1   CHEMBL364127   \n",
       "2  CHEMBL1683469   \n",
       "3    CHEMBL52564   \n",
       "4    CHEMBL21427   \n",
       "\n",
       "                                                                                   SMILES  \\\n",
       "0  S(=O)(=O)(N)c1cc(N/C(/S)=N\\c2cc(C(=O)[O-])c(cc2)C=2c3c(OC4=CC(=O)C=CC=24)cc(O)cc3)ccc1   \n",
       "1                                             Clc1ccc(cc1)C(=O)NC1Cc2cc(S(=O)(=O)N)ccc2C1   \n",
       "2                                   S(=O)(=O)(N)c1ccc(cc1)CNS(=O)(=O)CC12CCC(CC1=O)C2(C)C   \n",
       "3                                                                 Oc1ccccc1\\C=C\\C(=O)[O-]   \n",
       "4                                                                       OB(O)c1ccc(OC)cc1   \n",
       "\n",
       "   Activity is_valid              Image  \n",
       "0         1     True   CHEMBL188002.png  \n",
       "1         1    False   CHEMBL364127.png  \n",
       "2         1    False  CHEMBL1683469.png  \n",
       "3         1    False    CHEMBL52564.png  \n",
       "4         1    False    CHEMBL21427.png  "
      ]
     },
     "execution_count": 12,
     "metadata": {},
     "output_type": "execute_result"
    }
   ],
   "source": [
    "df['Image'] = df['CID'] + '.png'\n",
    "df.head()"
   ]
  },
  {
   "cell_type": "code",
   "execution_count": 13,
   "metadata": {},
   "outputs": [],
   "source": [
    "db = DataBlock(\n",
    "    blocks = (ImageBlock(), CategoryBlock()), \n",
    "    get_x=ColReader('Image', pref=IMAGES),\n",
    "    get_y=ColReader('Activity'), \n",
    "    splitter=ColSplitter('is_valid'),\n",
    "    item_tfms=None, \n",
    "    batch_tfms=None\n",
    "    )"
   ]
  },
  {
   "cell_type": "code",
   "execution_count": 14,
   "metadata": {},
   "outputs": [],
   "source": [
    "dls = db.dataloaders(df, bs=64, shuffle_train=True)"
   ]
  },
  {
   "cell_type": "code",
   "execution_count": 15,
   "metadata": {},
   "outputs": [
    {
     "data": {
      "image/png": "[encoded data removed]",
      "text/plain": [
       "<Figure size 648x648 with 9 Axes>"
      ]
     },
     "metadata": {
      "needs_background": "light"
     },
     "output_type": "display_data"
    }
   ],
   "source": [
    "dls.show_batch()"
   ]
  },
  {
   "cell_type": "markdown",
   "metadata": {},
   "source": [
    "# Train CNN model"
   ]
  },
  {
   "cell_type": "code",
   "execution_count": 16,
   "metadata": {},
   "outputs": [],
   "source": [
    "#hide\n",
    "from sklearn.metrics import auc,roc_auc_score,recall_score,precision_score,f1_score\n",
    "from sklearn.metrics import matthews_corrcoef\n",
    "from sklearn.metrics import accuracy_score"
   ]
  },
  {
   "cell_type": "code",
   "execution_count": 17,
   "metadata": {},
   "outputs": [],
   "source": [
    "def train_model(dls, arch=resnet18, epochs=6, freeze_epochs=5, wd=None):\n",
    "    \n",
    "    print(f'Training model on dataset: {dataset}')\n",
    "    print(f'Architechture: {arch}')\n",
    "    print(f'Untrained epochs: freeze_epochs={freeze_epochs}')\n",
    "    print(f'Trained epochs: epochs={epochs}')\n",
    "    \n",
    "    learn = cnn_learner(dls, arch=resnet18, pretrained=True, \n",
    "                            wd=wd,\n",
    "                            metrics=[accuracy, \n",
    "                            F1Score(), \n",
    "                            Precision(), \n",
    "                            Recall(), \n",
    "                            RocAucBinary(), \n",
    "                            MatthewsCorrCoef()])\n",
    "    \n",
    "    \n",
    "    print(f'Finding learning rate...')\n",
    "    lr_min, lr_steep = learn.lr_find(suggestions=True, show_plot=False)\n",
    "    print(f'Training model with learning rate: {lr_min}')\n",
    "    learn.fine_tune(epochs, lr_min, freeze_epochs=freeze_epochs)\n",
    "    \n",
    "    return learn"
   ]
  },
  {
   "cell_type": "code",
   "execution_count": 18,
   "metadata": {},
   "outputs": [
    {
     "name": "stdout",
     "output_type": "stream",
     "text": [
      "Training model on dataset: CHEMBL205_cl\n",
      "Architechture: <function resnet18 at 0x7fe49bb13b80>\n",
      "Untrained epochs: freeze_epochs=5\n",
      "Trained epochs: epochs=6\n",
      "Finding learning rate...\n"
     ]
    },
    {
     "data": {
      "text/html": [],
      "text/plain": [
       "<IPython.core.display.HTML object>"
      ]
     },
     "metadata": {},
     "output_type": "display_data"
    },
    {
     "name": "stdout",
     "output_type": "stream",
     "text": [
      "Training model with learning rate: 0.02089296132326126\n"
     ]
    },
    {
     "data": {
      "text/html": [
       "<table border=\"1\" class=\"dataframe\">\n",
       "  <thead>\n",
       "    <tr style=\"text-align: left;\">\n",
       "      <th>epoch</th>\n",
       "      <th>train_loss</th>\n",
       "      <th>valid_loss</th>\n",
       "      <th>accuracy</th>\n",
       "      <th>f1_score</th>\n",
       "      <th>precision_score</th>\n",
       "      <th>recall_score</th>\n",
       "      <th>roc_auc_score</th>\n",
       "      <th>matthews_corrcoef</th>\n",
       "      <th>time</th>\n",
       "    </tr>\n",
       "  </thead>\n",
       "  <tbody>\n",
       "    <tr>\n",
       "      <td>0</td>\n",
       "      <td>0.297757</td>\n",
       "      <td>0.182952</td>\n",
       "      <td>0.932234</td>\n",
       "      <td>0.600000</td>\n",
       "      <td>0.647727</td>\n",
       "      <td>0.558824</td>\n",
       "      <td>0.920301</td>\n",
       "      <td>0.565033</td>\n",
       "      <td>01:03</td>\n",
       "    </tr>\n",
       "    <tr>\n",
       "      <td>1</td>\n",
       "      <td>0.206005</td>\n",
       "      <td>0.156396</td>\n",
       "      <td>0.948506</td>\n",
       "      <td>0.674189</td>\n",
       "      <td>0.794020</td>\n",
       "      <td>0.585784</td>\n",
       "      <td>0.944888</td>\n",
       "      <td>0.655752</td>\n",
       "      <td>01:03</td>\n",
       "    </tr>\n",
       "    <tr>\n",
       "      <td>2</td>\n",
       "      <td>0.196921</td>\n",
       "      <td>0.130718</td>\n",
       "      <td>0.955194</td>\n",
       "      <td>0.733775</td>\n",
       "      <td>0.798271</td>\n",
       "      <td>0.678922</td>\n",
       "      <td>0.972067</td>\n",
       "      <td>0.712261</td>\n",
       "      <td>01:01</td>\n",
       "    </tr>\n",
       "    <tr>\n",
       "      <td>3</td>\n",
       "      <td>0.158815</td>\n",
       "      <td>0.129715</td>\n",
       "      <td>0.962996</td>\n",
       "      <td>0.788265</td>\n",
       "      <td>0.821809</td>\n",
       "      <td>0.757353</td>\n",
       "      <td>0.977929</td>\n",
       "      <td>0.768798</td>\n",
       "      <td>01:03</td>\n",
       "    </tr>\n",
       "    <tr>\n",
       "      <td>4</td>\n",
       "      <td>0.142770</td>\n",
       "      <td>0.114239</td>\n",
       "      <td>0.951404</td>\n",
       "      <td>0.686782</td>\n",
       "      <td>0.829861</td>\n",
       "      <td>0.585784</td>\n",
       "      <td>0.978075</td>\n",
       "      <td>0.673090</td>\n",
       "      <td>01:02</td>\n",
       "    </tr>\n",
       "  </tbody>\n",
       "</table>"
      ],
      "text/plain": [
       "<IPython.core.display.HTML object>"
      ]
     },
     "metadata": {},
     "output_type": "display_data"
    },
    {
     "data": {
      "text/html": [
       "<table border=\"1\" class=\"dataframe\">\n",
       "  <thead>\n",
       "    <tr style=\"text-align: left;\">\n",
       "      <th>epoch</th>\n",
       "      <th>train_loss</th>\n",
       "      <th>valid_loss</th>\n",
       "      <th>accuracy</th>\n",
       "      <th>f1_score</th>\n",
       "      <th>precision_score</th>\n",
       "      <th>recall_score</th>\n",
       "      <th>roc_auc_score</th>\n",
       "      <th>matthews_corrcoef</th>\n",
       "      <th>time</th>\n",
       "    </tr>\n",
       "  </thead>\n",
       "  <tbody>\n",
       "    <tr>\n",
       "      <td>0</td>\n",
       "      <td>0.128076</td>\n",
       "      <td>0.158720</td>\n",
       "      <td>0.948952</td>\n",
       "      <td>0.667634</td>\n",
       "      <td>0.818505</td>\n",
       "      <td>0.563725</td>\n",
       "      <td>0.944693</td>\n",
       "      <td>0.654097</td>\n",
       "      <td>01:22</td>\n",
       "    </tr>\n",
       "    <tr>\n",
       "      <td>1</td>\n",
       "      <td>0.133582</td>\n",
       "      <td>0.115550</td>\n",
       "      <td>0.963888</td>\n",
       "      <td>0.817156</td>\n",
       "      <td>0.757322</td>\n",
       "      <td>0.887255</td>\n",
       "      <td>0.977314</td>\n",
       "      <td>0.800337</td>\n",
       "      <td>01:26</td>\n",
       "    </tr>\n",
       "    <tr>\n",
       "      <td>2</td>\n",
       "      <td>0.117920</td>\n",
       "      <td>0.097336</td>\n",
       "      <td>0.963665</td>\n",
       "      <td>0.799508</td>\n",
       "      <td>0.802469</td>\n",
       "      <td>0.796569</td>\n",
       "      <td>0.978159</td>\n",
       "      <td>0.779537</td>\n",
       "      <td>01:20</td>\n",
       "    </tr>\n",
       "    <tr>\n",
       "      <td>3</td>\n",
       "      <td>0.089624</td>\n",
       "      <td>0.108425</td>\n",
       "      <td>0.956531</td>\n",
       "      <td>0.720230</td>\n",
       "      <td>0.868512</td>\n",
       "      <td>0.615196</td>\n",
       "      <td>0.984091</td>\n",
       "      <td>0.709611</td>\n",
       "      <td>01:21</td>\n",
       "    </tr>\n",
       "    <tr>\n",
       "      <td>4</td>\n",
       "      <td>0.052601</td>\n",
       "      <td>0.089789</td>\n",
       "      <td>0.969015</td>\n",
       "      <td>0.831515</td>\n",
       "      <td>0.822542</td>\n",
       "      <td>0.840686</td>\n",
       "      <td>0.985702</td>\n",
       "      <td>0.814515</td>\n",
       "      <td>01:20</td>\n",
       "    </tr>\n",
       "    <tr>\n",
       "      <td>5</td>\n",
       "      <td>0.029035</td>\n",
       "      <td>0.105855</td>\n",
       "      <td>0.970129</td>\n",
       "      <td>0.835381</td>\n",
       "      <td>0.837438</td>\n",
       "      <td>0.833333</td>\n",
       "      <td>0.983640</td>\n",
       "      <td>0.818958</td>\n",
       "      <td>00:49</td>\n",
       "    </tr>\n",
       "  </tbody>\n",
       "</table>"
      ],
      "text/plain": [
       "<IPython.core.display.HTML object>"
      ]
     },
     "metadata": {},
     "output_type": "display_data"
    }
   ],
   "source": [
    "# Train model on resnet18\n",
    "learn = train_model(dls)"
   ]
  },
  {
   "cell_type": "code",
   "execution_count": 19,
   "metadata": {
    "scrolled": true
   },
   "outputs": [
    {
     "data": {
      "text/html": [],
      "text/plain": [
       "<IPython.core.display.HTML object>"
      ]
     },
     "metadata": {},
     "output_type": "display_data"
    }
   ],
   "source": [
    "#hide\n",
    "interp = ClassificationInterpretation.from_learner(learn)"
   ]
  },
  {
   "cell_type": "code",
   "execution_count": 20,
   "metadata": {},
   "outputs": [
    {
     "data": {
      "image/png": "[encoded data removed]",
      "text/plain": [
       "<Figure size 432x288 with 1 Axes>"
      ]
     },
     "metadata": {
      "needs_background": "light"
     },
     "output_type": "display_data"
    }
   ],
   "source": [
    "interp.plot_confusion_matrix()"
   ]
  },
  {
   "cell_type": "code",
   "execution_count": 21,
   "metadata": {},
   "outputs": [
    {
     "data": {
      "image/png": "[encoded data removed]",
      "text/plain": [
       "<Figure size 648x432 with 6 Axes>"
      ]
     },
     "metadata": {
      "needs_background": "light"
     },
     "output_type": "display_data"
    }
   ],
   "source": [
    "interp.plot_top_losses(k=5)"
   ]
  },
  {
   "cell_type": "markdown",
   "metadata": {},
   "source": [
    "# Hook the activations from the second last layer"
   ]
  },
  {
   "cell_type": "code",
   "execution_count": 22,
   "metadata": {},
   "outputs": [],
   "source": [
    "# Hook function\n",
    "class Hook():\n",
    "    def hook_func(self, m, i, o): self.stored = o.detach().clone()"
   ]
  },
  {
   "cell_type": "code",
   "execution_count": 23,
   "metadata": {},
   "outputs": [
    {
     "data": {
      "text/plain": [
       "Linear(in_features=1024, out_features=512, bias=False)"
      ]
     },
     "execution_count": 23,
     "metadata": {},
     "output_type": "execute_result"
    }
   ],
   "source": [
    "#hide\n",
    "learn.model[-1][-5]"
   ]
  },
  {
   "cell_type": "code",
   "execution_count": 24,
   "metadata": {},
   "outputs": [],
   "source": [
    "hook_output = Hook()\n",
    "hook = learn.model[-1][-5].register_forward_hook(hook_output.hook_func)"
   ]
  },
  {
   "cell_type": "code",
   "execution_count": 25,
   "metadata": {},
   "outputs": [],
   "source": [
    "#hide\n",
    "df_nodupl=df"
   ]
  },
  {
   "cell_type": "code",
   "execution_count": 26,
   "metadata": {},
   "outputs": [],
   "source": [
    "test_db = DataBlock(\n",
    "    blocks=(ImageBlock(), CategoryBlock()),\n",
    "    get_x=ColReader('Image', pref=IMAGES),\n",
    "    get_y=ColReader('Activity'),\n",
    "    splitter=RandomSplitter(valid_pct=0.),\n",
    "    item_tfms=None,\n",
    "    batch_tfms=None\n",
    "    )"
   ]
  },
  {
   "cell_type": "code",
   "execution_count": 27,
   "metadata": {},
   "outputs": [],
   "source": [
    "test_dls = test_db.dataloaders(df_nodupl, bs=1)"
   ]
  },
  {
   "cell_type": "code",
   "execution_count": 28,
   "metadata": {},
   "outputs": [
    {
     "data": {
      "text/html": [
       "<div>\n",
       "<style scoped>\n",
       "    .dataframe tbody tr th:only-of-type {\n",
       "        vertical-align: middle;\n",
       "    }\n",
       "\n",
       "    .dataframe tbody tr th {\n",
       "        vertical-align: top;\n",
       "    }\n",
       "\n",
       "    .dataframe thead th {\n",
       "        text-align: right;\n",
       "    }\n",
       "</style>\n",
       "<table border=\"1\" class=\"dataframe\">\n",
       "  <thead>\n",
       "    <tr style=\"text-align: right;\">\n",
       "      <th></th>\n",
       "      <th>CID</th>\n",
       "      <th>SMILES</th>\n",
       "      <th>Activity</th>\n",
       "      <th>is_valid</th>\n",
       "      <th>Image</th>\n",
       "    </tr>\n",
       "  </thead>\n",
       "  <tbody>\n",
       "    <tr>\n",
       "      <th>14250</th>\n",
       "      <td>CHEMBL239935</td>\n",
       "      <td>[nH]1c2c3c(nnc2c2c1cccc2)cccc3</td>\n",
       "      <td>0</td>\n",
       "      <td>False</td>\n",
       "      <td>CHEMBL239935.png</td>\n",
       "    </tr>\n",
       "    <tr>\n",
       "      <th>9720</th>\n",
       "      <td>CHEMBL1997503</td>\n",
       "      <td>Clc1cc(ccc1OC(C)C)-c1nc(on1)-c1ccc(NC2CC(CC2)C(=O)[O-])cc1</td>\n",
       "      <td>0</td>\n",
       "      <td>False</td>\n",
       "      <td>CHEMBL1997503.png</td>\n",
       "    </tr>\n",
       "    <tr>\n",
       "      <th>9468</th>\n",
       "      <td>CHEMBL257293</td>\n",
       "      <td>Fc1ccc(cc1)CC1CCC[NH+](C1)C(O)CC(NC(=O)Nc1cc(cc(c1)C(C)C)-c1nnnn1C)C</td>\n",
       "      <td>0</td>\n",
       "      <td>False</td>\n",
       "      <td>CHEMBL257293.png</td>\n",
       "    </tr>\n",
       "    <tr>\n",
       "      <th>5423</th>\n",
       "      <td>CHEMBL478611</td>\n",
       "      <td>O1CC(O)(Cc2cc(O)c(O)cc2)C(O)c2c1c(O)c(O)cc2</td>\n",
       "      <td>0</td>\n",
       "      <td>False</td>\n",
       "      <td>CHEMBL478611.png</td>\n",
       "    </tr>\n",
       "    <tr>\n",
       "      <th>14108</th>\n",
       "      <td>CHEMBL111872</td>\n",
       "      <td>n1c(Cc2ccccc2)c(n(C)c1N)Cc1ccccc1</td>\n",
       "      <td>0</td>\n",
       "      <td>True</td>\n",
       "      <td>CHEMBL111872.png</td>\n",
       "    </tr>\n",
       "  </tbody>\n",
       "</table>\n",
       "</div>"
      ],
      "text/plain": [
       "                 CID  \\\n",
       "14250   CHEMBL239935   \n",
       "9720   CHEMBL1997503   \n",
       "9468    CHEMBL257293   \n",
       "5423    CHEMBL478611   \n",
       "14108   CHEMBL111872   \n",
       "\n",
       "                                                                     SMILES  \\\n",
       "14250                                        [nH]1c2c3c(nnc2c2c1cccc2)cccc3   \n",
       "9720             Clc1cc(ccc1OC(C)C)-c1nc(on1)-c1ccc(NC2CC(CC2)C(=O)[O-])cc1   \n",
       "9468   Fc1ccc(cc1)CC1CCC[NH+](C1)C(O)CC(NC(=O)Nc1cc(cc(c1)C(C)C)-c1nnnn1C)C   \n",
       "5423                            O1CC(O)(Cc2cc(O)c(O)cc2)C(O)c2c1c(O)c(O)cc2   \n",
       "14108                                     n1c(Cc2ccccc2)c(n(C)c1N)Cc1ccccc1   \n",
       "\n",
       "       Activity is_valid              Image  \n",
       "14250         0    False   CHEMBL239935.png  \n",
       "9720          0    False  CHEMBL1997503.png  \n",
       "9468          0    False   CHEMBL257293.png  \n",
       "5423          0    False   CHEMBL478611.png  \n",
       "14108         0     True   CHEMBL111872.png  "
      ]
     },
     "execution_count": 28,
     "metadata": {},
     "output_type": "execute_result"
    }
   ],
   "source": [
    "test_dls.items.head()"
   ]
  },
  {
   "cell_type": "code",
   "execution_count": 29,
   "metadata": {},
   "outputs": [
    {
     "data": {
      "text/plain": [
       "(PILImage mode=RGB size=224x224, TensorCategory(0))"
      ]
     },
     "execution_count": 29,
     "metadata": {},
     "output_type": "execute_result"
    }
   ],
   "source": [
    "#hide\n",
    "test_dls.dataset[0]"
   ]
  },
  {
   "cell_type": "code",
   "execution_count": 30,
   "metadata": {},
   "outputs": [],
   "source": [
    "#hide\n",
    "test_df = test_dls.items.reset_index()"
   ]
  },
  {
   "cell_type": "code",
   "execution_count": 31,
   "metadata": {},
   "outputs": [
    {
     "name": "stdout",
     "output_type": "stream",
     "text": [
      "<class 'pandas.core.frame.DataFrame'>\n",
      "RangeIndex: 17941 entries, 0 to 17940\n",
      "Data columns (total 6 columns):\n",
      " #   Column    Non-Null Count  Dtype \n",
      "---  ------    --------------  ----- \n",
      " 0   index     17941 non-null  int64 \n",
      " 1   CID       17941 non-null  object\n",
      " 2   SMILES    17941 non-null  object\n",
      " 3   Activity  17941 non-null  int64 \n",
      " 4   is_valid  17941 non-null  object\n",
      " 5   Image     17941 non-null  object\n",
      "dtypes: int64(2), object(4)\n",
      "memory usage: 841.1+ KB\n"
     ]
    }
   ],
   "source": [
    "#hide\n",
    "test_df.info()"
   ]
  },
  {
   "cell_type": "code",
   "execution_count": 32,
   "metadata": {},
   "outputs": [
    {
     "name": "stdout",
     "output_type": "stream",
     "text": [
      "<class 'pandas.core.frame.DataFrame'>\n",
      "RangeIndex: 17941 entries, 0 to 17940\n",
      "Data columns (total 5 columns):\n",
      " #   Column    Non-Null Count  Dtype \n",
      "---  ------    --------------  ----- \n",
      " 0   CID       17941 non-null  object\n",
      " 1   SMILES    17941 non-null  object\n",
      " 2   Activity  17941 non-null  int64 \n",
      " 3   is_valid  17941 non-null  object\n",
      " 4   Image     17941 non-null  object\n",
      "dtypes: int64(1), object(4)\n",
      "memory usage: 700.9+ KB\n"
     ]
    }
   ],
   "source": [
    "#hide\n",
    "df_nodupl.info()"
   ]
  },
  {
   "cell_type": "code",
   "execution_count": 33,
   "metadata": {},
   "outputs": [
    {
     "data": {
      "text/html": [
       "<div>\n",
       "<style scoped>\n",
       "    .dataframe tbody tr th:only-of-type {\n",
       "        vertical-align: middle;\n",
       "    }\n",
       "\n",
       "    .dataframe tbody tr th {\n",
       "        vertical-align: top;\n",
       "    }\n",
       "\n",
       "    .dataframe thead th {\n",
       "        text-align: right;\n",
       "    }\n",
       "</style>\n",
       "<table border=\"1\" class=\"dataframe\">\n",
       "  <thead>\n",
       "    <tr style=\"text-align: right;\">\n",
       "      <th></th>\n",
       "      <th>index</th>\n",
       "      <th>CID</th>\n",
       "      <th>SMILES</th>\n",
       "      <th>Activity</th>\n",
       "      <th>is_valid</th>\n",
       "      <th>Image</th>\n",
       "    </tr>\n",
       "  </thead>\n",
       "  <tbody>\n",
       "    <tr>\n",
       "      <th>9865</th>\n",
       "      <td>1403</td>\n",
       "      <td>CHEMBL1089637</td>\n",
       "      <td>S(=O)(=O)(N)c1ccc(NC2OCC(O)C(O)C2O)cc1</td>\n",
       "      <td>1</td>\n",
       "      <td>False</td>\n",
       "      <td>CHEMBL1089637.png</td>\n",
       "    </tr>\n",
       "  </tbody>\n",
       "</table>\n",
       "</div>"
      ],
      "text/plain": [
       "      index            CID                                  SMILES  Activity  \\\n",
       "9865   1403  CHEMBL1089637  S(=O)(=O)(N)c1ccc(NC2OCC(O)C(O)C2O)cc1         1   \n",
       "\n",
       "     is_valid              Image  \n",
       "9865    False  CHEMBL1089637.png  "
      ]
     },
     "execution_count": 33,
     "metadata": {},
     "output_type": "execute_result"
    }
   ],
   "source": [
    "#hide\n",
    "test_df.loc[test_df.CID == 'CHEMBL1089637']"
   ]
  },
  {
   "cell_type": "code",
   "execution_count": 34,
   "metadata": {},
   "outputs": [
    {
     "data": {
      "text/html": [
       "<div>\n",
       "<style scoped>\n",
       "    .dataframe tbody tr th:only-of-type {\n",
       "        vertical-align: middle;\n",
       "    }\n",
       "\n",
       "    .dataframe tbody tr th {\n",
       "        vertical-align: top;\n",
       "    }\n",
       "\n",
       "    .dataframe thead th {\n",
       "        text-align: right;\n",
       "    }\n",
       "</style>\n",
       "<table border=\"1\" class=\"dataframe\">\n",
       "  <thead>\n",
       "    <tr style=\"text-align: right;\">\n",
       "      <th></th>\n",
       "      <th>CID</th>\n",
       "      <th>SMILES</th>\n",
       "      <th>Activity</th>\n",
       "      <th>is_valid</th>\n",
       "      <th>Image</th>\n",
       "    </tr>\n",
       "  </thead>\n",
       "  <tbody>\n",
       "    <tr>\n",
       "      <th>1403</th>\n",
       "      <td>CHEMBL1089637</td>\n",
       "      <td>S(=O)(=O)(N)c1ccc(NC2OCC(O)C(O)C2O)cc1</td>\n",
       "      <td>1</td>\n",
       "      <td>False</td>\n",
       "      <td>CHEMBL1089637.png</td>\n",
       "    </tr>\n",
       "  </tbody>\n",
       "</table>\n",
       "</div>"
      ],
      "text/plain": [
       "                CID                                  SMILES  Activity  \\\n",
       "1403  CHEMBL1089637  S(=O)(=O)(N)c1ccc(NC2OCC(O)C(O)C2O)cc1         1   \n",
       "\n",
       "     is_valid              Image  \n",
       "1403    False  CHEMBL1089637.png  "
      ]
     },
     "execution_count": 34,
     "metadata": {},
     "output_type": "execute_result"
    }
   ],
   "source": [
    "#hide\n",
    "df_nodupl.loc[df_nodupl.CID == 'CHEMBL1089637']"
   ]
  },
  {
   "cell_type": "code",
   "execution_count": 35,
   "metadata": {},
   "outputs": [
    {
     "data": {
      "text/plain": [
       "(#17941) [(PILImage mode=RGB size=224x224, TensorCategory(0)),(PILImage mode=RGB size=224x224, TensorCategory(0)),(PILImage mode=RGB size=224x224, TensorCategory(0)),(PILImage mode=RGB size=224x224, TensorCategory(0)),(PILImage mode=RGB size=224x224, TensorCategory(0)),(PILImage mode=RGB size=224x224, TensorCategory(0)),(PILImage mode=RGB size=224x224, TensorCategory(0)),(PILImage mode=RGB size=224x224, TensorCategory(0)),(PILImage mode=RGB size=224x224, TensorCategory(0)),(PILImage mode=RGB size=224x224, TensorCategory(0))...]"
      ]
     },
     "execution_count": 35,
     "metadata": {},
     "output_type": "execute_result"
    }
   ],
   "source": [
    "#hide\n",
    "test_dls.dataset"
   ]
  },
  {
   "cell_type": "code",
   "execution_count": 36,
   "metadata": {},
   "outputs": [
    {
     "data": {
      "image/png": "[encoded data removed]",
      "text/plain": [
       "PILImage mode=RGB size=224x224"
      ]
     },
     "execution_count": 36,
     "metadata": {},
     "output_type": "execute_result"
    }
   ],
   "source": [
    "#hide\n",
    "test_dls.dataset[0][0]"
   ]
  },
  {
   "cell_type": "code",
   "execution_count": 37,
   "metadata": {
    "scrolled": true
   },
   "outputs": [
    {
     "data": {
      "text/html": [
       "<div>\n",
       "<style scoped>\n",
       "    .dataframe tbody tr th:only-of-type {\n",
       "        vertical-align: middle;\n",
       "    }\n",
       "\n",
       "    .dataframe tbody tr th {\n",
       "        vertical-align: top;\n",
       "    }\n",
       "\n",
       "    .dataframe thead th {\n",
       "        text-align: right;\n",
       "    }\n",
       "</style>\n",
       "<table border=\"1\" class=\"dataframe\">\n",
       "  <thead>\n",
       "    <tr style=\"text-align: right;\">\n",
       "      <th></th>\n",
       "      <th>index</th>\n",
       "      <th>CID</th>\n",
       "      <th>SMILES</th>\n",
       "      <th>Activity</th>\n",
       "      <th>is_valid</th>\n",
       "      <th>Image</th>\n",
       "    </tr>\n",
       "  </thead>\n",
       "  <tbody>\n",
       "    <tr>\n",
       "      <th>9865</th>\n",
       "      <td>1403</td>\n",
       "      <td>CHEMBL1089637</td>\n",
       "      <td>S(=O)(=O)(N)c1ccc(NC2OCC(O)C(O)C2O)cc1</td>\n",
       "      <td>1</td>\n",
       "      <td>False</td>\n",
       "      <td>CHEMBL1089637.png</td>\n",
       "    </tr>\n",
       "  </tbody>\n",
       "</table>\n",
       "</div>"
      ],
      "text/plain": [
       "      index            CID                                  SMILES  Activity  \\\n",
       "9865   1403  CHEMBL1089637  S(=O)(=O)(N)c1ccc(NC2OCC(O)C(O)C2O)cc1         1   \n",
       "\n",
       "     is_valid              Image  \n",
       "9865    False  CHEMBL1089637.png  "
      ]
     },
     "execution_count": 37,
     "metadata": {},
     "output_type": "execute_result"
    }
   ],
   "source": [
    "#hide\n",
    "test_df.loc[test_df.CID=='CHEMBL1089637']"
   ]
  },
  {
   "cell_type": "code",
   "execution_count": 38,
   "metadata": {},
   "outputs": [],
   "source": [
    "#hide\n",
    "def get_data(CID):\n",
    "    idx = test_df.loc[test_df.CID==CID].index[0]\n",
    "    print(idx)\n",
    "    return test_dls.dataset[idx]"
   ]
  },
  {
   "cell_type": "code",
   "execution_count": 39,
   "metadata": {},
   "outputs": [
    {
     "name": "stdout",
     "output_type": "stream",
     "text": [
      "9865\n"
     ]
    }
   ],
   "source": [
    "#hide\n",
    "t_img, t_cat = get_data('CHEMBL1089637')"
   ]
  },
  {
   "cell_type": "code",
   "execution_count": 40,
   "metadata": {},
   "outputs": [
    {
     "data": {
      "text/plain": [
       "17941"
      ]
     },
     "execution_count": 40,
     "metadata": {},
     "output_type": "execute_result"
    }
   ],
   "source": [
    "#hide\n",
    "len(test_dls.dataset)"
   ]
  },
  {
   "cell_type": "code",
   "execution_count": 41,
   "metadata": {},
   "outputs": [
    {
     "data": {
      "text/plain": [
       "(PILImage mode=RGB size=224x224, TensorCategory(0))"
      ]
     },
     "execution_count": 41,
     "metadata": {},
     "output_type": "execute_result"
    }
   ],
   "source": [
    "#hide\n",
    "test_dls.dataset[0]"
   ]
  },
  {
   "cell_type": "code",
   "execution_count": 42,
   "metadata": {
    "scrolled": true
   },
   "outputs": [
    {
     "data": {
      "image/png": "[encoded data removed]",
      "text/plain": [
       "PILImage mode=RGB size=224x224"
      ]
     },
     "execution_count": 42,
     "metadata": {},
     "output_type": "execute_result"
    }
   ],
   "source": [
    "#hide\n",
    "t_img"
   ]
  },
  {
   "cell_type": "markdown",
   "metadata": {},
   "source": [
    "Defining the function for getting activations of a single image in the dataset"
   ]
  },
  {
   "cell_type": "code",
   "execution_count": 43,
   "metadata": {},
   "outputs": [],
   "source": [
    "df_nodupl['activations'] = None"
   ]
  },
  {
   "cell_type": "code",
   "execution_count": 44,
   "metadata": {},
   "outputs": [],
   "source": [
    "def get_activations(CID, ret=False):\n",
    "    idx = df_nodupl.loc[df_nodupl.CID == CID].index[0]\n",
    "    print(idx)\n",
    "    data = get_data(CID)\n",
    "    img = data[0]\n",
    "    with torch.no_grad(): \n",
    "        output = learn.predict(img)\n",
    "    acts = np.array(hook_output.stored.cpu())[0]\n",
    "    #df_nodupl.iloc[idx]['acts'] = list(acts)\n",
    "    if not ret: \n",
    "        df_nodupl.at[idx, 'activations'] = list(acts)\n",
    "    if ret: \n",
    "        return list(acts)"
   ]
  },
  {
   "cell_type": "code",
   "execution_count": 45,
   "metadata": {},
   "outputs": [
    {
     "data": {
      "text/plain": [
       "'CHEMBL188002'"
      ]
     },
     "execution_count": 45,
     "metadata": {},
     "output_type": "execute_result"
    }
   ],
   "source": [
    "#hide\n",
    "df_nodupl.CID.values[0]"
   ]
  },
  {
   "cell_type": "markdown",
   "metadata": {},
   "source": [
    "Getting 512 activations for every image in the dataframe and adding it as a single column"
   ]
  },
  {
   "cell_type": "code",
   "execution_count": 46,
   "metadata": {},
   "outputs": [],
   "source": [
    "%%capture\n",
    "for CID in df_nodupl.CID.values:\n",
    "    get_activations(CID)"
   ]
  },
  {
   "cell_type": "code",
   "execution_count": 49,
   "metadata": {
    "scrolled": true
   },
   "outputs": [
    {
     "name": "stdout",
     "output_type": "stream",
     "text": [
      "<class 'pandas.core.frame.DataFrame'>\n",
      "RangeIndex: 17941 entries, 0 to 17940\n",
      "Data columns (total 6 columns):\n",
      " #   Column       Non-Null Count  Dtype \n",
      "---  ------       --------------  ----- \n",
      " 0   CID          17941 non-null  object\n",
      " 1   SMILES       17941 non-null  object\n",
      " 2   Activity     17941 non-null  int64 \n",
      " 3   is_valid     17941 non-null  object\n",
      " 4   Image        17941 non-null  object\n",
      " 5   activations  17941 non-null  object\n",
      "dtypes: int64(1), object(5)\n",
      "memory usage: 841.1+ KB\n"
     ]
    }
   ],
   "source": [
    "#hide\n",
    "df_nodupl.info()"
   ]
  },
  {
   "cell_type": "markdown",
   "metadata": {},
   "source": [
    "Splitting each activation to its own column in the dataframe"
   ]
  },
  {
   "cell_type": "code",
   "execution_count": 50,
   "metadata": {},
   "outputs": [],
   "source": [
    "df_acts = pd.concat([df_nodupl, pd.DataFrame(df_nodupl.activations.values.tolist()).add_prefix('act_')], axis=1)"
   ]
  },
  {
   "cell_type": "code",
   "execution_count": 51,
   "metadata": {},
   "outputs": [],
   "source": [
    "df_acts.drop('activations', axis=1, inplace=True)"
   ]
  },
  {
   "cell_type": "code",
   "execution_count": 52,
   "metadata": {},
   "outputs": [
    {
     "data": {
      "text/html": [
       "<div>\n",
       "<style scoped>\n",
       "    .dataframe tbody tr th:only-of-type {\n",
       "        vertical-align: middle;\n",
       "    }\n",
       "\n",
       "    .dataframe tbody tr th {\n",
       "        vertical-align: top;\n",
       "    }\n",
       "\n",
       "    .dataframe thead th {\n",
       "        text-align: right;\n",
       "    }\n",
       "</style>\n",
       "<table border=\"1\" class=\"dataframe\">\n",
       "  <thead>\n",
       "    <tr style=\"text-align: right;\">\n",
       "      <th></th>\n",
       "      <th>CID</th>\n",
       "      <th>SMILES</th>\n",
       "      <th>Activity</th>\n",
       "      <th>is_valid</th>\n",
       "      <th>Image</th>\n",
       "      <th>act_0</th>\n",
       "      <th>act_1</th>\n",
       "      <th>act_2</th>\n",
       "      <th>act_3</th>\n",
       "      <th>act_4</th>\n",
       "      <th>...</th>\n",
       "      <th>act_502</th>\n",
       "      <th>act_503</th>\n",
       "      <th>act_504</th>\n",
       "      <th>act_505</th>\n",
       "      <th>act_506</th>\n",
       "      <th>act_507</th>\n",
       "      <th>act_508</th>\n",
       "      <th>act_509</th>\n",
       "      <th>act_510</th>\n",
       "      <th>act_511</th>\n",
       "    </tr>\n",
       "  </thead>\n",
       "  <tbody>\n",
       "    <tr>\n",
       "      <th>0</th>\n",
       "      <td>CHEMBL188002</td>\n",
       "      <td>S(=O)(=O)(N)c1cc(N/C(/S)=N\\c2cc(C(=O)[O-])c(cc2)C=2c3c(OC4=CC(=O)C=CC=24)cc(O)cc3)ccc1</td>\n",
       "      <td>1</td>\n",
       "      <td>True</td>\n",
       "      <td>CHEMBL188002.png</td>\n",
       "      <td>-42.897369</td>\n",
       "      <td>34.907032</td>\n",
       "      <td>-35.413910</td>\n",
       "      <td>-21.410141</td>\n",
       "      <td>-61.686359</td>\n",
       "      <td>...</td>\n",
       "      <td>98.090538</td>\n",
       "      <td>-40.475765</td>\n",
       "      <td>-55.758678</td>\n",
       "      <td>-40.196342</td>\n",
       "      <td>-21.565161</td>\n",
       "      <td>-39.386112</td>\n",
       "      <td>88.342987</td>\n",
       "      <td>-77.520561</td>\n",
       "      <td>30.948782</td>\n",
       "      <td>-48.423111</td>\n",
       "    </tr>\n",
       "    <tr>\n",
       "      <th>1</th>\n",
       "      <td>CHEMBL364127</td>\n",
       "      <td>Clc1ccc(cc1)C(=O)NC1Cc2cc(S(=O)(=O)N)ccc2C1</td>\n",
       "      <td>1</td>\n",
       "      <td>False</td>\n",
       "      <td>CHEMBL364127.png</td>\n",
       "      <td>-96.240280</td>\n",
       "      <td>17.625538</td>\n",
       "      <td>46.354603</td>\n",
       "      <td>-167.131653</td>\n",
       "      <td>-92.642540</td>\n",
       "      <td>...</td>\n",
       "      <td>105.425598</td>\n",
       "      <td>-53.179356</td>\n",
       "      <td>-1.957846</td>\n",
       "      <td>-152.047241</td>\n",
       "      <td>-124.394402</td>\n",
       "      <td>-114.585510</td>\n",
       "      <td>123.068222</td>\n",
       "      <td>-48.347355</td>\n",
       "      <td>94.419861</td>\n",
       "      <td>-130.973587</td>\n",
       "    </tr>\n",
       "    <tr>\n",
       "      <th>2</th>\n",
       "      <td>CHEMBL1683469</td>\n",
       "      <td>S(=O)(=O)(N)c1ccc(cc1)CNS(=O)(=O)CC12CCC(CC1=O)C2(C)C</td>\n",
       "      <td>1</td>\n",
       "      <td>False</td>\n",
       "      <td>CHEMBL1683469.png</td>\n",
       "      <td>-110.437485</td>\n",
       "      <td>1.140767</td>\n",
       "      <td>84.031761</td>\n",
       "      <td>-205.667786</td>\n",
       "      <td>-99.510849</td>\n",
       "      <td>...</td>\n",
       "      <td>102.208374</td>\n",
       "      <td>-64.332008</td>\n",
       "      <td>33.721348</td>\n",
       "      <td>-192.948685</td>\n",
       "      <td>-178.112000</td>\n",
       "      <td>-143.599503</td>\n",
       "      <td>147.062531</td>\n",
       "      <td>-47.969799</td>\n",
       "      <td>126.356018</td>\n",
       "      <td>-158.886963</td>\n",
       "    </tr>\n",
       "    <tr>\n",
       "      <th>3</th>\n",
       "      <td>CHEMBL52564</td>\n",
       "      <td>Oc1ccccc1\\C=C\\C(=O)[O-]</td>\n",
       "      <td>1</td>\n",
       "      <td>False</td>\n",
       "      <td>CHEMBL52564.png</td>\n",
       "      <td>-42.642754</td>\n",
       "      <td>18.759075</td>\n",
       "      <td>5.093142</td>\n",
       "      <td>-42.919945</td>\n",
       "      <td>-57.405197</td>\n",
       "      <td>...</td>\n",
       "      <td>105.915039</td>\n",
       "      <td>-39.527615</td>\n",
       "      <td>-23.374825</td>\n",
       "      <td>-81.049446</td>\n",
       "      <td>-53.409107</td>\n",
       "      <td>-57.353622</td>\n",
       "      <td>98.793694</td>\n",
       "      <td>-46.956039</td>\n",
       "      <td>50.408783</td>\n",
       "      <td>-67.285126</td>\n",
       "    </tr>\n",
       "    <tr>\n",
       "      <th>4</th>\n",
       "      <td>CHEMBL21427</td>\n",
       "      <td>OB(O)c1ccc(OC)cc1</td>\n",
       "      <td>1</td>\n",
       "      <td>False</td>\n",
       "      <td>CHEMBL21427.png</td>\n",
       "      <td>-52.613388</td>\n",
       "      <td>29.321335</td>\n",
       "      <td>-8.920407</td>\n",
       "      <td>-38.327934</td>\n",
       "      <td>-74.483788</td>\n",
       "      <td>...</td>\n",
       "      <td>127.697937</td>\n",
       "      <td>-41.359352</td>\n",
       "      <td>-46.951527</td>\n",
       "      <td>-80.075348</td>\n",
       "      <td>-57.078045</td>\n",
       "      <td>-62.758518</td>\n",
       "      <td>107.616997</td>\n",
       "      <td>-67.371101</td>\n",
       "      <td>54.477600</td>\n",
       "      <td>-71.601402</td>\n",
       "    </tr>\n",
       "  </tbody>\n",
       "</table>\n",
       "<p>5 rows × 517 columns</p>\n",
       "</div>"
      ],
      "text/plain": [
       "             CID  \\\n",
       "0   CHEMBL188002   \n",
       "1   CHEMBL364127   \n",
       "2  CHEMBL1683469   \n",
       "3    CHEMBL52564   \n",
       "4    CHEMBL21427   \n",
       "\n",
       "                                                                                   SMILES  \\\n",
       "0  S(=O)(=O)(N)c1cc(N/C(/S)=N\\c2cc(C(=O)[O-])c(cc2)C=2c3c(OC4=CC(=O)C=CC=24)cc(O)cc3)ccc1   \n",
       "1                                             Clc1ccc(cc1)C(=O)NC1Cc2cc(S(=O)(=O)N)ccc2C1   \n",
       "2                                   S(=O)(=O)(N)c1ccc(cc1)CNS(=O)(=O)CC12CCC(CC1=O)C2(C)C   \n",
       "3                                                                 Oc1ccccc1\\C=C\\C(=O)[O-]   \n",
       "4                                                                       OB(O)c1ccc(OC)cc1   \n",
       "\n",
       "   Activity is_valid              Image       act_0      act_1      act_2  \\\n",
       "0         1     True   CHEMBL188002.png  -42.897369  34.907032 -35.413910   \n",
       "1         1    False   CHEMBL364127.png  -96.240280  17.625538  46.354603   \n",
       "2         1    False  CHEMBL1683469.png -110.437485   1.140767  84.031761   \n",
       "3         1    False    CHEMBL52564.png  -42.642754  18.759075   5.093142   \n",
       "4         1    False    CHEMBL21427.png  -52.613388  29.321335  -8.920407   \n",
       "\n",
       "        act_3      act_4  ...     act_502    act_503    act_504     act_505  \\\n",
       "0  -21.410141 -61.686359  ...   98.090538 -40.475765 -55.758678  -40.196342   \n",
       "1 -167.131653 -92.642540  ...  105.425598 -53.179356  -1.957846 -152.047241   \n",
       "2 -205.667786 -99.510849  ...  102.208374 -64.332008  33.721348 -192.948685   \n",
       "3  -42.919945 -57.405197  ...  105.915039 -39.527615 -23.374825  -81.049446   \n",
       "4  -38.327934 -74.483788  ...  127.697937 -41.359352 -46.951527  -80.075348   \n",
       "\n",
       "      act_506     act_507     act_508    act_509     act_510     act_511  \n",
       "0  -21.565161  -39.386112   88.342987 -77.520561   30.948782  -48.423111  \n",
       "1 -124.394402 -114.585510  123.068222 -48.347355   94.419861 -130.973587  \n",
       "2 -178.112000 -143.599503  147.062531 -47.969799  126.356018 -158.886963  \n",
       "3  -53.409107  -57.353622   98.793694 -46.956039   50.408783  -67.285126  \n",
       "4  -57.078045  -62.758518  107.616997 -67.371101   54.477600  -71.601402  \n",
       "\n",
       "[5 rows x 517 columns]"
      ]
     },
     "execution_count": 52,
     "metadata": {},
     "output_type": "execute_result"
    }
   ],
   "source": [
    "df_acts.head()"
   ]
  },
  {
   "cell_type": "code",
   "execution_count": 53,
   "metadata": {},
   "outputs": [
    {
     "name": "stdout",
     "output_type": "stream",
     "text": [
      "<class 'pandas.core.frame.DataFrame'>\n",
      "RangeIndex: 17941 entries, 0 to 17940\n",
      "Columns: 517 entries, CID to act_511\n",
      "dtypes: float64(512), int64(1), object(4)\n",
      "memory usage: 70.8+ MB\n"
     ]
    }
   ],
   "source": [
    "df_acts.info()"
   ]
  },
  {
   "cell_type": "markdown",
   "metadata": {},
   "source": [
    "# Add ECFP to dataframe"
   ]
  },
  {
   "cell_type": "markdown",
   "metadata": {},
   "source": [
    "Also adding ECFP fingerprint to the dataframe and storing it as a separate csv."
   ]
  },
  {
   "cell_type": "code",
   "execution_count": 54,
   "metadata": {},
   "outputs": [],
   "source": [
    "#hide\n",
    "df_ecfp = pd.read_csv(path/'CHEMBL205_cl_ecfp_1024.csv')"
   ]
  },
  {
   "cell_type": "code",
   "execution_count": 55,
   "metadata": {},
   "outputs": [
    {
     "data": {
      "text/html": [
       "<div>\n",
       "<style scoped>\n",
       "    .dataframe tbody tr th:only-of-type {\n",
       "        vertical-align: middle;\n",
       "    }\n",
       "\n",
       "    .dataframe tbody tr th {\n",
       "        vertical-align: top;\n",
       "    }\n",
       "\n",
       "    .dataframe thead th {\n",
       "        text-align: right;\n",
       "    }\n",
       "</style>\n",
       "<table border=\"1\" class=\"dataframe\">\n",
       "  <thead>\n",
       "    <tr style=\"text-align: right;\">\n",
       "      <th></th>\n",
       "      <th>CID</th>\n",
       "      <th>SMILES</th>\n",
       "      <th>Activity</th>\n",
       "      <th>ECFP4_1</th>\n",
       "      <th>ECFP4_2</th>\n",
       "      <th>ECFP4_3</th>\n",
       "      <th>ECFP4_4</th>\n",
       "      <th>ECFP4_5</th>\n",
       "      <th>ECFP4_6</th>\n",
       "      <th>ECFP4_7</th>\n",
       "      <th>...</th>\n",
       "      <th>ECFP4_1015</th>\n",
       "      <th>ECFP4_1016</th>\n",
       "      <th>ECFP4_1017</th>\n",
       "      <th>ECFP4_1018</th>\n",
       "      <th>ECFP4_1019</th>\n",
       "      <th>ECFP4_1020</th>\n",
       "      <th>ECFP4_1021</th>\n",
       "      <th>ECFP4_1022</th>\n",
       "      <th>ECFP4_1023</th>\n",
       "      <th>ECFP4_1024</th>\n",
       "    </tr>\n",
       "  </thead>\n",
       "  <tbody>\n",
       "    <tr>\n",
       "      <th>0</th>\n",
       "      <td>CHEMBL188002</td>\n",
       "      <td>S(=O)(=O)(N)c1cc(N/C(/S)=N\\c2cc(C(=O)[O-])c(cc2)C=2c3c(OC4=CC(=O)C=CC=24)cc(O)cc3)ccc1</td>\n",
       "      <td>1</td>\n",
       "      <td>0</td>\n",
       "      <td>0</td>\n",
       "      <td>0</td>\n",
       "      <td>0</td>\n",
       "      <td>0</td>\n",
       "      <td>0</td>\n",
       "      <td>0</td>\n",
       "      <td>...</td>\n",
       "      <td>0</td>\n",
       "      <td>0</td>\n",
       "      <td>0</td>\n",
       "      <td>0</td>\n",
       "      <td>0</td>\n",
       "      <td>0</td>\n",
       "      <td>0</td>\n",
       "      <td>0</td>\n",
       "      <td>0</td>\n",
       "      <td>0</td>\n",
       "    </tr>\n",
       "    <tr>\n",
       "      <th>1</th>\n",
       "      <td>CHEMBL364127</td>\n",
       "      <td>Clc1ccc(cc1)C(=O)NC1Cc2cc(S(=O)(=O)N)ccc2C1</td>\n",
       "      <td>1</td>\n",
       "      <td>0</td>\n",
       "      <td>0</td>\n",
       "      <td>0</td>\n",
       "      <td>0</td>\n",
       "      <td>0</td>\n",
       "      <td>0</td>\n",
       "      <td>0</td>\n",
       "      <td>...</td>\n",
       "      <td>0</td>\n",
       "      <td>0</td>\n",
       "      <td>0</td>\n",
       "      <td>0</td>\n",
       "      <td>0</td>\n",
       "      <td>1</td>\n",
       "      <td>0</td>\n",
       "      <td>0</td>\n",
       "      <td>0</td>\n",
       "      <td>0</td>\n",
       "    </tr>\n",
       "    <tr>\n",
       "      <th>2</th>\n",
       "      <td>CHEMBL1683469</td>\n",
       "      <td>S(=O)(=O)(N)c1ccc(cc1)CNS(=O)(=O)CC12CCC(CC1=O)C2(C)C</td>\n",
       "      <td>1</td>\n",
       "      <td>0</td>\n",
       "      <td>0</td>\n",
       "      <td>0</td>\n",
       "      <td>0</td>\n",
       "      <td>0</td>\n",
       "      <td>0</td>\n",
       "      <td>0</td>\n",
       "      <td>...</td>\n",
       "      <td>0</td>\n",
       "      <td>0</td>\n",
       "      <td>0</td>\n",
       "      <td>0</td>\n",
       "      <td>0</td>\n",
       "      <td>1</td>\n",
       "      <td>0</td>\n",
       "      <td>0</td>\n",
       "      <td>0</td>\n",
       "      <td>0</td>\n",
       "    </tr>\n",
       "    <tr>\n",
       "      <th>3</th>\n",
       "      <td>CHEMBL52564</td>\n",
       "      <td>Oc1ccccc1\\C=C\\C(=O)[O-]</td>\n",
       "      <td>1</td>\n",
       "      <td>0</td>\n",
       "      <td>0</td>\n",
       "      <td>0</td>\n",
       "      <td>0</td>\n",
       "      <td>0</td>\n",
       "      <td>0</td>\n",
       "      <td>0</td>\n",
       "      <td>...</td>\n",
       "      <td>0</td>\n",
       "      <td>0</td>\n",
       "      <td>0</td>\n",
       "      <td>0</td>\n",
       "      <td>0</td>\n",
       "      <td>0</td>\n",
       "      <td>0</td>\n",
       "      <td>0</td>\n",
       "      <td>0</td>\n",
       "      <td>0</td>\n",
       "    </tr>\n",
       "    <tr>\n",
       "      <th>4</th>\n",
       "      <td>CHEMBL21427</td>\n",
       "      <td>OB(O)c1ccc(OC)cc1</td>\n",
       "      <td>1</td>\n",
       "      <td>0</td>\n",
       "      <td>0</td>\n",
       "      <td>0</td>\n",
       "      <td>0</td>\n",
       "      <td>0</td>\n",
       "      <td>0</td>\n",
       "      <td>0</td>\n",
       "      <td>...</td>\n",
       "      <td>0</td>\n",
       "      <td>0</td>\n",
       "      <td>0</td>\n",
       "      <td>0</td>\n",
       "      <td>0</td>\n",
       "      <td>0</td>\n",
       "      <td>0</td>\n",
       "      <td>0</td>\n",
       "      <td>0</td>\n",
       "      <td>0</td>\n",
       "    </tr>\n",
       "  </tbody>\n",
       "</table>\n",
       "<p>5 rows × 1027 columns</p>\n",
       "</div>"
      ],
      "text/plain": [
       "             CID  \\\n",
       "0   CHEMBL188002   \n",
       "1   CHEMBL364127   \n",
       "2  CHEMBL1683469   \n",
       "3    CHEMBL52564   \n",
       "4    CHEMBL21427   \n",
       "\n",
       "                                                                                   SMILES  \\\n",
       "0  S(=O)(=O)(N)c1cc(N/C(/S)=N\\c2cc(C(=O)[O-])c(cc2)C=2c3c(OC4=CC(=O)C=CC=24)cc(O)cc3)ccc1   \n",
       "1                                             Clc1ccc(cc1)C(=O)NC1Cc2cc(S(=O)(=O)N)ccc2C1   \n",
       "2                                   S(=O)(=O)(N)c1ccc(cc1)CNS(=O)(=O)CC12CCC(CC1=O)C2(C)C   \n",
       "3                                                                 Oc1ccccc1\\C=C\\C(=O)[O-]   \n",
       "4                                                                       OB(O)c1ccc(OC)cc1   \n",
       "\n",
       "   Activity  ECFP4_1  ECFP4_2  ECFP4_3  ECFP4_4  ECFP4_5  ECFP4_6  ECFP4_7  \\\n",
       "0         1        0        0        0        0        0        0        0   \n",
       "1         1        0        0        0        0        0        0        0   \n",
       "2         1        0        0        0        0        0        0        0   \n",
       "3         1        0        0        0        0        0        0        0   \n",
       "4         1        0        0        0        0        0        0        0   \n",
       "\n",
       "   ...  ECFP4_1015  ECFP4_1016  ECFP4_1017  ECFP4_1018  ECFP4_1019  \\\n",
       "0  ...           0           0           0           0           0   \n",
       "1  ...           0           0           0           0           0   \n",
       "2  ...           0           0           0           0           0   \n",
       "3  ...           0           0           0           0           0   \n",
       "4  ...           0           0           0           0           0   \n",
       "\n",
       "   ECFP4_1020  ECFP4_1021  ECFP4_1022  ECFP4_1023  ECFP4_1024  \n",
       "0           0           0           0           0           0  \n",
       "1           1           0           0           0           0  \n",
       "2           1           0           0           0           0  \n",
       "3           0           0           0           0           0  \n",
       "4           0           0           0           0           0  \n",
       "\n",
       "[5 rows x 1027 columns]"
      ]
     },
     "execution_count": 55,
     "metadata": {},
     "output_type": "execute_result"
    }
   ],
   "source": [
    "#hide\n",
    "df_ecfp.head()"
   ]
  },
  {
   "cell_type": "code",
   "execution_count": 56,
   "metadata": {},
   "outputs": [
    {
     "name": "stdout",
     "output_type": "stream",
     "text": [
      "<class 'pandas.core.frame.DataFrame'>\n",
      "RangeIndex: 17941 entries, 0 to 17940\n",
      "Columns: 1027 entries, CID to ECFP4_1024\n",
      "dtypes: int64(1025), object(2)\n",
      "memory usage: 140.6+ MB\n"
     ]
    }
   ],
   "source": [
    "#hide\n",
    "df_ecfp.info()"
   ]
  },
  {
   "cell_type": "code",
   "execution_count": 57,
   "metadata": {},
   "outputs": [
    {
     "name": "stdout",
     "output_type": "stream",
     "text": [
      "<class 'pandas.core.frame.DataFrame'>\n",
      "RangeIndex: 17941 entries, 0 to 17940\n",
      "Columns: 517 entries, CID to act_511\n",
      "dtypes: float64(512), int64(1), object(4)\n",
      "memory usage: 70.8+ MB\n"
     ]
    }
   ],
   "source": [
    "#hide\n",
    "df_acts.info()"
   ]
  },
  {
   "cell_type": "code",
   "execution_count": 58,
   "metadata": {},
   "outputs": [],
   "source": [
    "df = df_ecfp.merge(df_acts, on='CID')"
   ]
  },
  {
   "cell_type": "code",
   "execution_count": 59,
   "metadata": {},
   "outputs": [
    {
     "data": {
      "text/html": [
       "<div>\n",
       "<style scoped>\n",
       "    .dataframe tbody tr th:only-of-type {\n",
       "        vertical-align: middle;\n",
       "    }\n",
       "\n",
       "    .dataframe tbody tr th {\n",
       "        vertical-align: top;\n",
       "    }\n",
       "\n",
       "    .dataframe thead th {\n",
       "        text-align: right;\n",
       "    }\n",
       "</style>\n",
       "<table border=\"1\" class=\"dataframe\">\n",
       "  <thead>\n",
       "    <tr style=\"text-align: right;\">\n",
       "      <th></th>\n",
       "      <th>CID</th>\n",
       "      <th>SMILES_x</th>\n",
       "      <th>Activity_x</th>\n",
       "      <th>ECFP4_1</th>\n",
       "      <th>ECFP4_2</th>\n",
       "      <th>ECFP4_3</th>\n",
       "      <th>ECFP4_4</th>\n",
       "      <th>ECFP4_5</th>\n",
       "      <th>ECFP4_6</th>\n",
       "      <th>ECFP4_7</th>\n",
       "      <th>...</th>\n",
       "      <th>act_502</th>\n",
       "      <th>act_503</th>\n",
       "      <th>act_504</th>\n",
       "      <th>act_505</th>\n",
       "      <th>act_506</th>\n",
       "      <th>act_507</th>\n",
       "      <th>act_508</th>\n",
       "      <th>act_509</th>\n",
       "      <th>act_510</th>\n",
       "      <th>act_511</th>\n",
       "    </tr>\n",
       "  </thead>\n",
       "  <tbody>\n",
       "    <tr>\n",
       "      <th>0</th>\n",
       "      <td>CHEMBL188002</td>\n",
       "      <td>S(=O)(=O)(N)c1cc(N/C(/S)=N\\c2cc(C(=O)[O-])c(cc2)C=2c3c(OC4=CC(=O)C=CC=24)cc(O)cc3)ccc1</td>\n",
       "      <td>1</td>\n",
       "      <td>0</td>\n",
       "      <td>0</td>\n",
       "      <td>0</td>\n",
       "      <td>0</td>\n",
       "      <td>0</td>\n",
       "      <td>0</td>\n",
       "      <td>0</td>\n",
       "      <td>...</td>\n",
       "      <td>98.090538</td>\n",
       "      <td>-40.475765</td>\n",
       "      <td>-55.758678</td>\n",
       "      <td>-40.196342</td>\n",
       "      <td>-21.565161</td>\n",
       "      <td>-39.386112</td>\n",
       "      <td>88.342987</td>\n",
       "      <td>-77.520561</td>\n",
       "      <td>30.948782</td>\n",
       "      <td>-48.423111</td>\n",
       "    </tr>\n",
       "    <tr>\n",
       "      <th>1</th>\n",
       "      <td>CHEMBL364127</td>\n",
       "      <td>Clc1ccc(cc1)C(=O)NC1Cc2cc(S(=O)(=O)N)ccc2C1</td>\n",
       "      <td>1</td>\n",
       "      <td>0</td>\n",
       "      <td>0</td>\n",
       "      <td>0</td>\n",
       "      <td>0</td>\n",
       "      <td>0</td>\n",
       "      <td>0</td>\n",
       "      <td>0</td>\n",
       "      <td>...</td>\n",
       "      <td>105.425598</td>\n",
       "      <td>-53.179356</td>\n",
       "      <td>-1.957846</td>\n",
       "      <td>-152.047241</td>\n",
       "      <td>-124.394402</td>\n",
       "      <td>-114.585510</td>\n",
       "      <td>123.068222</td>\n",
       "      <td>-48.347355</td>\n",
       "      <td>94.419861</td>\n",
       "      <td>-130.973587</td>\n",
       "    </tr>\n",
       "    <tr>\n",
       "      <th>2</th>\n",
       "      <td>CHEMBL1683469</td>\n",
       "      <td>S(=O)(=O)(N)c1ccc(cc1)CNS(=O)(=O)CC12CCC(CC1=O)C2(C)C</td>\n",
       "      <td>1</td>\n",
       "      <td>0</td>\n",
       "      <td>0</td>\n",
       "      <td>0</td>\n",
       "      <td>0</td>\n",
       "      <td>0</td>\n",
       "      <td>0</td>\n",
       "      <td>0</td>\n",
       "      <td>...</td>\n",
       "      <td>102.208374</td>\n",
       "      <td>-64.332008</td>\n",
       "      <td>33.721348</td>\n",
       "      <td>-192.948685</td>\n",
       "      <td>-178.112000</td>\n",
       "      <td>-143.599503</td>\n",
       "      <td>147.062531</td>\n",
       "      <td>-47.969799</td>\n",
       "      <td>126.356018</td>\n",
       "      <td>-158.886963</td>\n",
       "    </tr>\n",
       "    <tr>\n",
       "      <th>3</th>\n",
       "      <td>CHEMBL52564</td>\n",
       "      <td>Oc1ccccc1\\C=C\\C(=O)[O-]</td>\n",
       "      <td>1</td>\n",
       "      <td>0</td>\n",
       "      <td>0</td>\n",
       "      <td>0</td>\n",
       "      <td>0</td>\n",
       "      <td>0</td>\n",
       "      <td>0</td>\n",
       "      <td>0</td>\n",
       "      <td>...</td>\n",
       "      <td>105.915039</td>\n",
       "      <td>-39.527615</td>\n",
       "      <td>-23.374825</td>\n",
       "      <td>-81.049446</td>\n",
       "      <td>-53.409107</td>\n",
       "      <td>-57.353622</td>\n",
       "      <td>98.793694</td>\n",
       "      <td>-46.956039</td>\n",
       "      <td>50.408783</td>\n",
       "      <td>-67.285126</td>\n",
       "    </tr>\n",
       "    <tr>\n",
       "      <th>4</th>\n",
       "      <td>CHEMBL21427</td>\n",
       "      <td>OB(O)c1ccc(OC)cc1</td>\n",
       "      <td>1</td>\n",
       "      <td>0</td>\n",
       "      <td>0</td>\n",
       "      <td>0</td>\n",
       "      <td>0</td>\n",
       "      <td>0</td>\n",
       "      <td>0</td>\n",
       "      <td>0</td>\n",
       "      <td>...</td>\n",
       "      <td>127.697937</td>\n",
       "      <td>-41.359352</td>\n",
       "      <td>-46.951527</td>\n",
       "      <td>-80.075348</td>\n",
       "      <td>-57.078045</td>\n",
       "      <td>-62.758518</td>\n",
       "      <td>107.616997</td>\n",
       "      <td>-67.371101</td>\n",
       "      <td>54.477600</td>\n",
       "      <td>-71.601402</td>\n",
       "    </tr>\n",
       "  </tbody>\n",
       "</table>\n",
       "<p>5 rows × 1543 columns</p>\n",
       "</div>"
      ],
      "text/plain": [
       "             CID  \\\n",
       "0   CHEMBL188002   \n",
       "1   CHEMBL364127   \n",
       "2  CHEMBL1683469   \n",
       "3    CHEMBL52564   \n",
       "4    CHEMBL21427   \n",
       "\n",
       "                                                                                 SMILES_x  \\\n",
       "0  S(=O)(=O)(N)c1cc(N/C(/S)=N\\c2cc(C(=O)[O-])c(cc2)C=2c3c(OC4=CC(=O)C=CC=24)cc(O)cc3)ccc1   \n",
       "1                                             Clc1ccc(cc1)C(=O)NC1Cc2cc(S(=O)(=O)N)ccc2C1   \n",
       "2                                   S(=O)(=O)(N)c1ccc(cc1)CNS(=O)(=O)CC12CCC(CC1=O)C2(C)C   \n",
       "3                                                                 Oc1ccccc1\\C=C\\C(=O)[O-]   \n",
       "4                                                                       OB(O)c1ccc(OC)cc1   \n",
       "\n",
       "   Activity_x  ECFP4_1  ECFP4_2  ECFP4_3  ECFP4_4  ECFP4_5  ECFP4_6  ECFP4_7  \\\n",
       "0           1        0        0        0        0        0        0        0   \n",
       "1           1        0        0        0        0        0        0        0   \n",
       "2           1        0        0        0        0        0        0        0   \n",
       "3           1        0        0        0        0        0        0        0   \n",
       "4           1        0        0        0        0        0        0        0   \n",
       "\n",
       "   ...     act_502    act_503    act_504     act_505     act_506     act_507  \\\n",
       "0  ...   98.090538 -40.475765 -55.758678  -40.196342  -21.565161  -39.386112   \n",
       "1  ...  105.425598 -53.179356  -1.957846 -152.047241 -124.394402 -114.585510   \n",
       "2  ...  102.208374 -64.332008  33.721348 -192.948685 -178.112000 -143.599503   \n",
       "3  ...  105.915039 -39.527615 -23.374825  -81.049446  -53.409107  -57.353622   \n",
       "4  ...  127.697937 -41.359352 -46.951527  -80.075348  -57.078045  -62.758518   \n",
       "\n",
       "      act_508    act_509     act_510     act_511  \n",
       "0   88.342987 -77.520561   30.948782  -48.423111  \n",
       "1  123.068222 -48.347355   94.419861 -130.973587  \n",
       "2  147.062531 -47.969799  126.356018 -158.886963  \n",
       "3   98.793694 -46.956039   50.408783  -67.285126  \n",
       "4  107.616997 -67.371101   54.477600  -71.601402  \n",
       "\n",
       "[5 rows x 1543 columns]"
      ]
     },
     "execution_count": 59,
     "metadata": {},
     "output_type": "execute_result"
    }
   ],
   "source": [
    "df.head()"
   ]
  },
  {
   "cell_type": "code",
   "execution_count": 60,
   "metadata": {},
   "outputs": [],
   "source": [
    "df.drop(['SMILES_y', \"Activity_y\"], axis=1, inplace=True)"
   ]
  },
  {
   "cell_type": "code",
   "execution_count": 61,
   "metadata": {},
   "outputs": [
    {
     "data": {
      "text/html": [
       "<div>\n",
       "<style scoped>\n",
       "    .dataframe tbody tr th:only-of-type {\n",
       "        vertical-align: middle;\n",
       "    }\n",
       "\n",
       "    .dataframe tbody tr th {\n",
       "        vertical-align: top;\n",
       "    }\n",
       "\n",
       "    .dataframe thead th {\n",
       "        text-align: right;\n",
       "    }\n",
       "</style>\n",
       "<table border=\"1\" class=\"dataframe\">\n",
       "  <thead>\n",
       "    <tr style=\"text-align: right;\">\n",
       "      <th></th>\n",
       "      <th>CID</th>\n",
       "      <th>SMILES_x</th>\n",
       "      <th>Activity_x</th>\n",
       "      <th>ECFP4_1</th>\n",
       "      <th>ECFP4_2</th>\n",
       "      <th>ECFP4_3</th>\n",
       "      <th>ECFP4_4</th>\n",
       "      <th>ECFP4_5</th>\n",
       "      <th>ECFP4_6</th>\n",
       "      <th>ECFP4_7</th>\n",
       "      <th>...</th>\n",
       "      <th>act_502</th>\n",
       "      <th>act_503</th>\n",
       "      <th>act_504</th>\n",
       "      <th>act_505</th>\n",
       "      <th>act_506</th>\n",
       "      <th>act_507</th>\n",
       "      <th>act_508</th>\n",
       "      <th>act_509</th>\n",
       "      <th>act_510</th>\n",
       "      <th>act_511</th>\n",
       "    </tr>\n",
       "  </thead>\n",
       "  <tbody>\n",
       "    <tr>\n",
       "      <th>0</th>\n",
       "      <td>CHEMBL188002</td>\n",
       "      <td>S(=O)(=O)(N)c1cc(N/C(/S)=N\\c2cc(C(=O)[O-])c(cc2)C=2c3c(OC4=CC(=O)C=CC=24)cc(O)cc3)ccc1</td>\n",
       "      <td>1</td>\n",
       "      <td>0</td>\n",
       "      <td>0</td>\n",
       "      <td>0</td>\n",
       "      <td>0</td>\n",
       "      <td>0</td>\n",
       "      <td>0</td>\n",
       "      <td>0</td>\n",
       "      <td>...</td>\n",
       "      <td>98.090538</td>\n",
       "      <td>-40.475765</td>\n",
       "      <td>-55.758678</td>\n",
       "      <td>-40.196342</td>\n",
       "      <td>-21.565161</td>\n",
       "      <td>-39.386112</td>\n",
       "      <td>88.342987</td>\n",
       "      <td>-77.520561</td>\n",
       "      <td>30.948782</td>\n",
       "      <td>-48.423111</td>\n",
       "    </tr>\n",
       "    <tr>\n",
       "      <th>1</th>\n",
       "      <td>CHEMBL364127</td>\n",
       "      <td>Clc1ccc(cc1)C(=O)NC1Cc2cc(S(=O)(=O)N)ccc2C1</td>\n",
       "      <td>1</td>\n",
       "      <td>0</td>\n",
       "      <td>0</td>\n",
       "      <td>0</td>\n",
       "      <td>0</td>\n",
       "      <td>0</td>\n",
       "      <td>0</td>\n",
       "      <td>0</td>\n",
       "      <td>...</td>\n",
       "      <td>105.425598</td>\n",
       "      <td>-53.179356</td>\n",
       "      <td>-1.957846</td>\n",
       "      <td>-152.047241</td>\n",
       "      <td>-124.394402</td>\n",
       "      <td>-114.585510</td>\n",
       "      <td>123.068222</td>\n",
       "      <td>-48.347355</td>\n",
       "      <td>94.419861</td>\n",
       "      <td>-130.973587</td>\n",
       "    </tr>\n",
       "    <tr>\n",
       "      <th>2</th>\n",
       "      <td>CHEMBL1683469</td>\n",
       "      <td>S(=O)(=O)(N)c1ccc(cc1)CNS(=O)(=O)CC12CCC(CC1=O)C2(C)C</td>\n",
       "      <td>1</td>\n",
       "      <td>0</td>\n",
       "      <td>0</td>\n",
       "      <td>0</td>\n",
       "      <td>0</td>\n",
       "      <td>0</td>\n",
       "      <td>0</td>\n",
       "      <td>0</td>\n",
       "      <td>...</td>\n",
       "      <td>102.208374</td>\n",
       "      <td>-64.332008</td>\n",
       "      <td>33.721348</td>\n",
       "      <td>-192.948685</td>\n",
       "      <td>-178.112000</td>\n",
       "      <td>-143.599503</td>\n",
       "      <td>147.062531</td>\n",
       "      <td>-47.969799</td>\n",
       "      <td>126.356018</td>\n",
       "      <td>-158.886963</td>\n",
       "    </tr>\n",
       "    <tr>\n",
       "      <th>3</th>\n",
       "      <td>CHEMBL52564</td>\n",
       "      <td>Oc1ccccc1\\C=C\\C(=O)[O-]</td>\n",
       "      <td>1</td>\n",
       "      <td>0</td>\n",
       "      <td>0</td>\n",
       "      <td>0</td>\n",
       "      <td>0</td>\n",
       "      <td>0</td>\n",
       "      <td>0</td>\n",
       "      <td>0</td>\n",
       "      <td>...</td>\n",
       "      <td>105.915039</td>\n",
       "      <td>-39.527615</td>\n",
       "      <td>-23.374825</td>\n",
       "      <td>-81.049446</td>\n",
       "      <td>-53.409107</td>\n",
       "      <td>-57.353622</td>\n",
       "      <td>98.793694</td>\n",
       "      <td>-46.956039</td>\n",
       "      <td>50.408783</td>\n",
       "      <td>-67.285126</td>\n",
       "    </tr>\n",
       "    <tr>\n",
       "      <th>4</th>\n",
       "      <td>CHEMBL21427</td>\n",
       "      <td>OB(O)c1ccc(OC)cc1</td>\n",
       "      <td>1</td>\n",
       "      <td>0</td>\n",
       "      <td>0</td>\n",
       "      <td>0</td>\n",
       "      <td>0</td>\n",
       "      <td>0</td>\n",
       "      <td>0</td>\n",
       "      <td>0</td>\n",
       "      <td>...</td>\n",
       "      <td>127.697937</td>\n",
       "      <td>-41.359352</td>\n",
       "      <td>-46.951527</td>\n",
       "      <td>-80.075348</td>\n",
       "      <td>-57.078045</td>\n",
       "      <td>-62.758518</td>\n",
       "      <td>107.616997</td>\n",
       "      <td>-67.371101</td>\n",
       "      <td>54.477600</td>\n",
       "      <td>-71.601402</td>\n",
       "    </tr>\n",
       "  </tbody>\n",
       "</table>\n",
       "<p>5 rows × 1541 columns</p>\n",
       "</div>"
      ],
      "text/plain": [
       "             CID  \\\n",
       "0   CHEMBL188002   \n",
       "1   CHEMBL364127   \n",
       "2  CHEMBL1683469   \n",
       "3    CHEMBL52564   \n",
       "4    CHEMBL21427   \n",
       "\n",
       "                                                                                 SMILES_x  \\\n",
       "0  S(=O)(=O)(N)c1cc(N/C(/S)=N\\c2cc(C(=O)[O-])c(cc2)C=2c3c(OC4=CC(=O)C=CC=24)cc(O)cc3)ccc1   \n",
       "1                                             Clc1ccc(cc1)C(=O)NC1Cc2cc(S(=O)(=O)N)ccc2C1   \n",
       "2                                   S(=O)(=O)(N)c1ccc(cc1)CNS(=O)(=O)CC12CCC(CC1=O)C2(C)C   \n",
       "3                                                                 Oc1ccccc1\\C=C\\C(=O)[O-]   \n",
       "4                                                                       OB(O)c1ccc(OC)cc1   \n",
       "\n",
       "   Activity_x  ECFP4_1  ECFP4_2  ECFP4_3  ECFP4_4  ECFP4_5  ECFP4_6  ECFP4_7  \\\n",
       "0           1        0        0        0        0        0        0        0   \n",
       "1           1        0        0        0        0        0        0        0   \n",
       "2           1        0        0        0        0        0        0        0   \n",
       "3           1        0        0        0        0        0        0        0   \n",
       "4           1        0        0        0        0        0        0        0   \n",
       "\n",
       "   ...     act_502    act_503    act_504     act_505     act_506     act_507  \\\n",
       "0  ...   98.090538 -40.475765 -55.758678  -40.196342  -21.565161  -39.386112   \n",
       "1  ...  105.425598 -53.179356  -1.957846 -152.047241 -124.394402 -114.585510   \n",
       "2  ...  102.208374 -64.332008  33.721348 -192.948685 -178.112000 -143.599503   \n",
       "3  ...  105.915039 -39.527615 -23.374825  -81.049446  -53.409107  -57.353622   \n",
       "4  ...  127.697937 -41.359352 -46.951527  -80.075348  -57.078045  -62.758518   \n",
       "\n",
       "      act_508    act_509     act_510     act_511  \n",
       "0   88.342987 -77.520561   30.948782  -48.423111  \n",
       "1  123.068222 -48.347355   94.419861 -130.973587  \n",
       "2  147.062531 -47.969799  126.356018 -158.886963  \n",
       "3   98.793694 -46.956039   50.408783  -67.285126  \n",
       "4  107.616997 -67.371101   54.477600  -71.601402  \n",
       "\n",
       "[5 rows x 1541 columns]"
      ]
     },
     "execution_count": 61,
     "metadata": {},
     "output_type": "execute_result"
    }
   ],
   "source": [
    "df.head()"
   ]
  },
  {
   "cell_type": "code",
   "execution_count": 62,
   "metadata": {},
   "outputs": [],
   "source": [
    "#hide\n",
    "df.rename(columns={'SMILES_x': 'SMILES', 'Activity_x': 'Activity'}, inplace=True)"
   ]
  },
  {
   "cell_type": "code",
   "execution_count": 63,
   "metadata": {},
   "outputs": [
    {
     "data": {
      "text/plain": [
       "False    13455\n",
       "True      4486\n",
       "Name: is_valid, dtype: int64"
      ]
     },
     "execution_count": 63,
     "metadata": {},
     "output_type": "execute_result"
    }
   ],
   "source": [
    "#hide\n",
    "df.is_valid.value_counts()"
   ]
  },
  {
   "cell_type": "code",
   "execution_count": 64,
   "metadata": {},
   "outputs": [],
   "source": [
    "df.to_csv(path/'chembl205-data-with-ecfp-activations.csv', index=None)"
   ]
  }
 ],
 "metadata": {
  "kernelspec": {
   "display_name": "Python 3",
   "language": "python",
   "name": "python3"
  },
  "language_info": {
   "codemirror_mode": {
    "name": "ipython",
    "version": 3
   },
   "file_extension": ".py",
   "mimetype": "text/x-python",
   "name": "python",
   "nbconvert_exporter": "python",
   "pygments_lexer": "ipython3",
   "version": "3.8.6"
  }
 },
 "nbformat": 4,
 "nbformat_minor": 5
}
