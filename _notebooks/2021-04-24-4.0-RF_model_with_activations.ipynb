{
 "cells": [
  {
   "cell_type": "markdown",
   "metadata": {},
   "source": [
    "# 4 - RF model with activations\n",
    "\n",
    "- categories: [jupyter, RF, random forest, activations]"
   ]
  },
  {
   "cell_type": "markdown",
   "metadata": {},
   "source": [
    "## DATASETS:\n",
    "(a) Carbonic Anhydrase II (ChEMBL205), a protein lyase,  \n",
    "(b) Cyclin-dependent kinase 2 (CHEMBL301), a protein kinase,  \n",
    "(c) ether-a-go-go-related gene potassium channel 1 (HERG) (CHEMBL240), a voltage-gated ion channel,  \n",
    "(d) Dopamine D4 receptor (CHEMBL219), a monoamine GPCR,  \n",
    "(e) Coagulation factor X (CHEMBL244), a serine protease,  \n",
    "(f) Cannabinoid CB1 receptor (CHEMBL218), a lipid-like GPCR and  \n",
    "(g) Cytochrome P450 19A1 (CHEMBL1978), a cytochrome P450.  \n",
    "The activity classes were selected based on data availability and as representatives of therapeutically important target classes or as anti-targets."
   ]
  },
  {
   "cell_type": "markdown",
   "metadata": {},
   "source": [
    "In this last notebook we will use the activations and fingerprints created from the previous notebooks and run the same Random Forest classifier on the new dataset. "
   ]
  },
  {
   "cell_type": "code",
   "execution_count": 1,
   "metadata": {},
   "outputs": [],
   "source": [
    "#hide\n",
    "top_mcc_scores = {\n",
    "    \n",
    "    'CHEMBL205': 0.862,\n",
    "    'CHEMBL301': 0.926,\n",
    "    'CHEMBL240': 0.884,\n",
    "    'CHEMBL219': 0.887,\n",
    "    'CHEMBL244': 0.983,\n",
    "    'CHEMBL218': 0.941,\n",
    "    'CHEMBL1978': 0.904}"
   ]
  },
  {
   "cell_type": "code",
   "execution_count": 2,
   "metadata": {},
   "outputs": [],
   "source": [
    "#hide\n",
    "# Import\n",
    "import pandas as pd\n",
    "import numpy as np\n",
    "from pathlib import Path"
   ]
  },
  {
   "cell_type": "code",
   "execution_count": 3,
   "metadata": {},
   "outputs": [],
   "source": [
    "#hide\n",
    "path = Path('dataset/13321_2017_226_MOESM1_ESM/')\n",
    "#df = pd.read_csv('../dataset/13321_2017_226_MOESM1_ESM/CHEMBL205_cl.csv', index_col=0)"
   ]
  },
  {
   "cell_type": "code",
   "execution_count": 4,
   "metadata": {
    "scrolled": true
   },
   "outputs": [
    {
     "data": {
      "text/plain": [
       "[PosixPath('dataset/13321_2017_226_MOESM1_ESM/CHEMBL205_cl_ecfp_1024.csv'),\n",
       " PosixPath('dataset/13321_2017_226_MOESM1_ESM/CHEMBL205_cl.csv'),\n",
       " PosixPath('dataset/13321_2017_226_MOESM1_ESM/chembl205-data-with-ecfp-activations.csv'),\n",
       " PosixPath('dataset/13321_2017_226_MOESM1_ESM/mol_images')]"
      ]
     },
     "execution_count": 4,
     "metadata": {},
     "output_type": "execute_result"
    }
   ],
   "source": [
    "#hide\n",
    "#df.head()\n",
    "list(path.iterdir())"
   ]
  },
  {
   "cell_type": "markdown",
   "metadata": {},
   "source": [
    "# Create Dataframe from csv file"
   ]
  },
  {
   "cell_type": "code",
   "execution_count": 5,
   "metadata": {},
   "outputs": [],
   "source": [
    "dataset='chembl205'"
   ]
  },
  {
   "cell_type": "code",
   "execution_count": 6,
   "metadata": {},
   "outputs": [],
   "source": [
    "df = pd.read_csv(path/f'{dataset}-data-with-ecfp-activations.csv')"
   ]
  },
  {
   "cell_type": "code",
   "execution_count": 7,
   "metadata": {},
   "outputs": [
    {
     "data": {
      "text/html": [
       "<div>\n",
       "<style scoped>\n",
       "    .dataframe tbody tr th:only-of-type {\n",
       "        vertical-align: middle;\n",
       "    }\n",
       "\n",
       "    .dataframe tbody tr th {\n",
       "        vertical-align: top;\n",
       "    }\n",
       "\n",
       "    .dataframe thead th {\n",
       "        text-align: right;\n",
       "    }\n",
       "</style>\n",
       "<table border=\"1\" class=\"dataframe\">\n",
       "  <thead>\n",
       "    <tr style=\"text-align: right;\">\n",
       "      <th></th>\n",
       "      <th>CID</th>\n",
       "      <th>SMILES</th>\n",
       "      <th>Activity</th>\n",
       "      <th>ECFP4_1</th>\n",
       "      <th>ECFP4_2</th>\n",
       "      <th>ECFP4_3</th>\n",
       "      <th>ECFP4_4</th>\n",
       "      <th>ECFP4_5</th>\n",
       "      <th>ECFP4_6</th>\n",
       "      <th>ECFP4_7</th>\n",
       "      <th>...</th>\n",
       "      <th>act_502</th>\n",
       "      <th>act_503</th>\n",
       "      <th>act_504</th>\n",
       "      <th>act_505</th>\n",
       "      <th>act_506</th>\n",
       "      <th>act_507</th>\n",
       "      <th>act_508</th>\n",
       "      <th>act_509</th>\n",
       "      <th>act_510</th>\n",
       "      <th>act_511</th>\n",
       "    </tr>\n",
       "  </thead>\n",
       "  <tbody>\n",
       "    <tr>\n",
       "      <th>0</th>\n",
       "      <td>CHEMBL188002</td>\n",
       "      <td>S(=O)(=O)(N)c1cc(N/C(/S)=N\\c2cc(C(=O)[O-])c(cc...</td>\n",
       "      <td>1</td>\n",
       "      <td>0</td>\n",
       "      <td>0</td>\n",
       "      <td>0</td>\n",
       "      <td>0</td>\n",
       "      <td>0</td>\n",
       "      <td>0</td>\n",
       "      <td>0</td>\n",
       "      <td>...</td>\n",
       "      <td>98.090538</td>\n",
       "      <td>-40.475765</td>\n",
       "      <td>-55.758678</td>\n",
       "      <td>-40.196342</td>\n",
       "      <td>-21.565161</td>\n",
       "      <td>-39.386112</td>\n",
       "      <td>88.342987</td>\n",
       "      <td>-77.520561</td>\n",
       "      <td>30.948782</td>\n",
       "      <td>-48.423111</td>\n",
       "    </tr>\n",
       "    <tr>\n",
       "      <th>1</th>\n",
       "      <td>CHEMBL364127</td>\n",
       "      <td>Clc1ccc(cc1)C(=O)NC1Cc2cc(S(=O)(=O)N)ccc2C1</td>\n",
       "      <td>1</td>\n",
       "      <td>0</td>\n",
       "      <td>0</td>\n",
       "      <td>0</td>\n",
       "      <td>0</td>\n",
       "      <td>0</td>\n",
       "      <td>0</td>\n",
       "      <td>0</td>\n",
       "      <td>...</td>\n",
       "      <td>105.425598</td>\n",
       "      <td>-53.179356</td>\n",
       "      <td>-1.957846</td>\n",
       "      <td>-152.047241</td>\n",
       "      <td>-124.394402</td>\n",
       "      <td>-114.585510</td>\n",
       "      <td>123.068222</td>\n",
       "      <td>-48.347355</td>\n",
       "      <td>94.419861</td>\n",
       "      <td>-130.973587</td>\n",
       "    </tr>\n",
       "    <tr>\n",
       "      <th>2</th>\n",
       "      <td>CHEMBL1683469</td>\n",
       "      <td>S(=O)(=O)(N)c1ccc(cc1)CNS(=O)(=O)CC12CCC(CC1=O...</td>\n",
       "      <td>1</td>\n",
       "      <td>0</td>\n",
       "      <td>0</td>\n",
       "      <td>0</td>\n",
       "      <td>0</td>\n",
       "      <td>0</td>\n",
       "      <td>0</td>\n",
       "      <td>0</td>\n",
       "      <td>...</td>\n",
       "      <td>102.208374</td>\n",
       "      <td>-64.332008</td>\n",
       "      <td>33.721348</td>\n",
       "      <td>-192.948685</td>\n",
       "      <td>-178.112000</td>\n",
       "      <td>-143.599503</td>\n",
       "      <td>147.062531</td>\n",
       "      <td>-47.969799</td>\n",
       "      <td>126.356018</td>\n",
       "      <td>-158.886963</td>\n",
       "    </tr>\n",
       "    <tr>\n",
       "      <th>3</th>\n",
       "      <td>CHEMBL52564</td>\n",
       "      <td>Oc1ccccc1\\C=C\\C(=O)[O-]</td>\n",
       "      <td>1</td>\n",
       "      <td>0</td>\n",
       "      <td>0</td>\n",
       "      <td>0</td>\n",
       "      <td>0</td>\n",
       "      <td>0</td>\n",
       "      <td>0</td>\n",
       "      <td>0</td>\n",
       "      <td>...</td>\n",
       "      <td>105.915039</td>\n",
       "      <td>-39.527615</td>\n",
       "      <td>-23.374825</td>\n",
       "      <td>-81.049446</td>\n",
       "      <td>-53.409107</td>\n",
       "      <td>-57.353622</td>\n",
       "      <td>98.793694</td>\n",
       "      <td>-46.956039</td>\n",
       "      <td>50.408783</td>\n",
       "      <td>-67.285126</td>\n",
       "    </tr>\n",
       "    <tr>\n",
       "      <th>4</th>\n",
       "      <td>CHEMBL21427</td>\n",
       "      <td>OB(O)c1ccc(OC)cc1</td>\n",
       "      <td>1</td>\n",
       "      <td>0</td>\n",
       "      <td>0</td>\n",
       "      <td>0</td>\n",
       "      <td>0</td>\n",
       "      <td>0</td>\n",
       "      <td>0</td>\n",
       "      <td>0</td>\n",
       "      <td>...</td>\n",
       "      <td>127.697937</td>\n",
       "      <td>-41.359352</td>\n",
       "      <td>-46.951527</td>\n",
       "      <td>-80.075348</td>\n",
       "      <td>-57.078045</td>\n",
       "      <td>-62.758518</td>\n",
       "      <td>107.616997</td>\n",
       "      <td>-67.371101</td>\n",
       "      <td>54.477600</td>\n",
       "      <td>-71.601402</td>\n",
       "    </tr>\n",
       "  </tbody>\n",
       "</table>\n",
       "<p>5 rows × 1541 columns</p>\n",
       "</div>"
      ],
      "text/plain": [
       "             CID                                             SMILES  Activity  \\\n",
       "0   CHEMBL188002  S(=O)(=O)(N)c1cc(N/C(/S)=N\\c2cc(C(=O)[O-])c(cc...         1   \n",
       "1   CHEMBL364127        Clc1ccc(cc1)C(=O)NC1Cc2cc(S(=O)(=O)N)ccc2C1         1   \n",
       "2  CHEMBL1683469  S(=O)(=O)(N)c1ccc(cc1)CNS(=O)(=O)CC12CCC(CC1=O...         1   \n",
       "3    CHEMBL52564                            Oc1ccccc1\\C=C\\C(=O)[O-]         1   \n",
       "4    CHEMBL21427                                  OB(O)c1ccc(OC)cc1         1   \n",
       "\n",
       "   ECFP4_1  ECFP4_2  ECFP4_3  ECFP4_4  ECFP4_5  ECFP4_6  ECFP4_7  ...  \\\n",
       "0        0        0        0        0        0        0        0  ...   \n",
       "1        0        0        0        0        0        0        0  ...   \n",
       "2        0        0        0        0        0        0        0  ...   \n",
       "3        0        0        0        0        0        0        0  ...   \n",
       "4        0        0        0        0        0        0        0  ...   \n",
       "\n",
       "      act_502    act_503    act_504     act_505     act_506     act_507  \\\n",
       "0   98.090538 -40.475765 -55.758678  -40.196342  -21.565161  -39.386112   \n",
       "1  105.425598 -53.179356  -1.957846 -152.047241 -124.394402 -114.585510   \n",
       "2  102.208374 -64.332008  33.721348 -192.948685 -178.112000 -143.599503   \n",
       "3  105.915039 -39.527615 -23.374825  -81.049446  -53.409107  -57.353622   \n",
       "4  127.697937 -41.359352 -46.951527  -80.075348  -57.078045  -62.758518   \n",
       "\n",
       "      act_508    act_509     act_510     act_511  \n",
       "0   88.342987 -77.520561   30.948782  -48.423111  \n",
       "1  123.068222 -48.347355   94.419861 -130.973587  \n",
       "2  147.062531 -47.969799  126.356018 -158.886963  \n",
       "3   98.793694 -46.956039   50.408783  -67.285126  \n",
       "4  107.616997 -67.371101   54.477600  -71.601402  \n",
       "\n",
       "[5 rows x 1541 columns]"
      ]
     },
     "execution_count": 7,
     "metadata": {},
     "output_type": "execute_result"
    }
   ],
   "source": [
    "df.head()"
   ]
  },
  {
   "cell_type": "markdown",
   "metadata": {},
   "source": [
    "# Train test split"
   ]
  },
  {
   "cell_type": "code",
   "execution_count": 8,
   "metadata": {},
   "outputs": [],
   "source": [
    "#hide\n",
    "from sklearn.model_selection import train_test_split, KFold"
   ]
  },
  {
   "cell_type": "code",
   "execution_count": 9,
   "metadata": {},
   "outputs": [
    {
     "data": {
      "text/plain": [
       "False    13455\n",
       "True      4486\n",
       "Name: is_valid, dtype: int64"
      ]
     },
     "execution_count": 9,
     "metadata": {},
     "output_type": "execute_result"
    }
   ],
   "source": [
    "#hide\n",
    "df.is_valid.value_counts()"
   ]
  },
  {
   "cell_type": "code",
   "execution_count": 10,
   "metadata": {},
   "outputs": [],
   "source": [
    "train = df.loc[df.is_valid==False]\n",
    "test = df.loc[df.is_valid==True]"
   ]
  },
  {
   "cell_type": "code",
   "execution_count": 11,
   "metadata": {},
   "outputs": [
    {
     "name": "stdout",
     "output_type": "stream",
     "text": [
      "<class 'pandas.core.frame.DataFrame'>\n",
      "Int64Index: 13455 entries, 1 to 17940\n",
      "Columns: 1541 entries, CID to act_511\n",
      "dtypes: bool(1), float64(512), int64(1025), object(3)\n",
      "memory usage: 158.2+ MB\n"
     ]
    }
   ],
   "source": [
    "#hide\n",
    "train.info()"
   ]
  },
  {
   "cell_type": "code",
   "execution_count": 12,
   "metadata": {},
   "outputs": [],
   "source": [
    "#hide\n",
    "X_train, y_train = train.drop([\"CID\", \"SMILES\", \"Activity\", \"Image\"], axis=1), train[\"Activity\"]\n",
    "X_test, y_test = test.drop([\"CID\", \"SMILES\", \"Activity\", \"Image\"], axis=1), test[\"Activity\"]"
   ]
  },
  {
   "cell_type": "code",
   "execution_count": 13,
   "metadata": {},
   "outputs": [
    {
     "data": {
      "text/plain": [
       "4486"
      ]
     },
     "execution_count": 13,
     "metadata": {},
     "output_type": "execute_result"
    }
   ],
   "source": [
    "#hide\n",
    "y_test.count()"
   ]
  },
  {
   "cell_type": "code",
   "execution_count": 14,
   "metadata": {},
   "outputs": [
    {
     "name": "stdout",
     "output_type": "stream",
     "text": [
      "<class 'pandas.core.frame.DataFrame'>\n",
      "Int64Index: 13455 entries, 1 to 17940\n",
      "Columns: 1537 entries, ECFP4_1 to act_511\n",
      "dtypes: bool(1), float64(512), int64(1024)\n",
      "memory usage: 157.8 MB\n"
     ]
    },
    {
     "data": {
      "text/plain": [
       "(13455, None)"
      ]
     },
     "execution_count": 14,
     "metadata": {},
     "output_type": "execute_result"
    }
   ],
   "source": [
    "#hide\n",
    "y_train.count(), X_train.info()"
   ]
  },
  {
   "cell_type": "markdown",
   "metadata": {},
   "source": [
    "# Random Forest"
   ]
  },
  {
   "cell_type": "code",
   "execution_count": 15,
   "metadata": {},
   "outputs": [],
   "source": [
    "#hide\n",
    "from sklearn.ensemble import RandomForestClassifier"
   ]
  },
  {
   "cell_type": "code",
   "execution_count": 16,
   "metadata": {},
   "outputs": [],
   "source": [
    "#hide\n",
    "from sklearn.metrics import auc,roc_auc_score,recall_score,precision_score,f1_score\n",
    "from  sklearn.metrics import matthews_corrcoef\n",
    "from sklearn.metrics import accuracy_score"
   ]
  },
  {
   "cell_type": "code",
   "execution_count": 17,
   "metadata": {},
   "outputs": [],
   "source": [
    "# train method for Random Forest\n",
    "def train_rf(X_train, X_test, y_train, y_test, n_estimators=5, criterion='gini', max_features='log2'):\n",
    "\n",
    "    \n",
    "    rf = RandomForestClassifier(n_estimators=n_estimators, criterion=criterion, min_samples_split=2, max_features=max_features, \n",
    "                               max_leaf_nodes=None,bootstrap=False,oob_score=False, n_jobs=-1, random_state=69)\n",
    "    \n",
    "    rf.fit(X_train,y_train)\n",
    "    y_pred= rf.predict(X_test)\n",
    "    y_pred_prob=rf.predict_proba(X_test)\n",
    "    \n",
    "    temp=[]\n",
    "    for j in range(len(y_pred_prob)):\n",
    "        temp.append(y_pred_prob[j][1])\n",
    "    auc=roc_auc_score(np.array(y_test),np.array(temp))\n",
    "    acc2=accuracy_score(y_test,y_pred)\n",
    "    mcc=matthews_corrcoef(y_test,y_pred)\n",
    "    Recall=recall_score(y_test, y_pred,pos_label=1)\n",
    "    Precision=precision_score(y_test, y_pred,pos_label=1)\n",
    "    F1_score=f1_score(y_test, y_pred,pos_label=1)\n",
    "\n",
    "    return auc,acc2,mcc,Recall,Precision,F1_score"
   ]
  },
  {
   "cell_type": "markdown",
   "metadata": {},
   "source": [
    "## Train RF with settings grid from paper"
   ]
  },
  {
   "cell_type": "code",
   "execution_count": 18,
   "metadata": {},
   "outputs": [],
   "source": [
    "#hide\n",
    "from sklearn.model_selection import ParameterGrid"
   ]
  },
  {
   "cell_type": "code",
   "execution_count": 19,
   "metadata": {},
   "outputs": [],
   "source": [
    "param_grid = {\n",
    "    'n_estimators': [10,50,100,200,300,700], \n",
    "    'criterion': ['gini', 'entropy'],\n",
    "    'max_features': ['log2', 'sqrt']}\n",
    "\n",
    "param_grid = ParameterGrid(param_grid)"
   ]
  },
  {
   "cell_type": "code",
   "execution_count": 28,
   "metadata": {},
   "outputs": [],
   "source": [
    "MCC=[]"
   ]
  },
  {
   "cell_type": "code",
   "execution_count": 29,
   "metadata": {},
   "outputs": [
    {
     "name": "stdout",
     "output_type": "stream",
     "text": [
      "Testing combination: {'criterion': 'gini', 'max_features': 'log2', 'n_estimators': 10}\n",
      "Average Matthews correlation: 0.8135612528114817\n",
      "\n",
      "Testing combination: {'criterion': 'gini', 'max_features': 'log2', 'n_estimators': 50}\n",
      "Average Matthews correlation: 0.808070667802557\n",
      "\n",
      "Testing combination: {'criterion': 'gini', 'max_features': 'log2', 'n_estimators': 100}\n",
      "Average Matthews correlation: 0.8057158482003463\n",
      "\n",
      "Testing combination: {'criterion': 'gini', 'max_features': 'log2', 'n_estimators': 200}\n",
      "Average Matthews correlation: 0.8057158482003463\n",
      "\n",
      "Testing combination: {'criterion': 'gini', 'max_features': 'log2', 'n_estimators': 300}\n",
      "Average Matthews correlation: 0.8033780300912903\n",
      "\n",
      "Testing combination: {'criterion': 'gini', 'max_features': 'log2', 'n_estimators': 700}\n",
      "Average Matthews correlation: 0.8057158482003463\n",
      "\n",
      "Testing combination: {'criterion': 'gini', 'max_features': 'sqrt', 'n_estimators': 10}\n",
      "Average Matthews correlation: 0.8085109587994693\n",
      "\n",
      "Testing combination: {'criterion': 'gini', 'max_features': 'sqrt', 'n_estimators': 50}\n",
      "Average Matthews correlation: 0.8084548331984114\n",
      "\n",
      "Testing combination: {'criterion': 'gini', 'max_features': 'sqrt', 'n_estimators': 100}\n",
      "Average Matthews correlation: 0.8108159603070193\n",
      "\n",
      "Testing combination: {'criterion': 'gini', 'max_features': 'sqrt', 'n_estimators': 200}\n",
      "Average Matthews correlation: 0.8088434851265638\n",
      "\n",
      "Testing combination: {'criterion': 'gini', 'max_features': 'sqrt', 'n_estimators': 300}\n",
      "Average Matthews correlation: 0.808070667802557\n",
      "\n",
      "Testing combination: {'criterion': 'gini', 'max_features': 'sqrt', 'n_estimators': 700}\n",
      "Average Matthews correlation: 0.8068911193845247\n",
      "\n",
      "Testing combination: {'criterion': 'entropy', 'max_features': 'log2', 'n_estimators': 10}\n",
      "Average Matthews correlation: 0.8115762126442005\n",
      "\n",
      "Testing combination: {'criterion': 'entropy', 'max_features': 'log2', 'n_estimators': 50}\n",
      "Average Matthews correlation: 0.8084548331984114\n",
      "\n",
      "Testing combination: {'criterion': 'entropy', 'max_features': 'log2', 'n_estimators': 100}\n",
      "Average Matthews correlation: 0.8068911193845247\n",
      "\n",
      "Testing combination: {'criterion': 'entropy', 'max_features': 'log2', 'n_estimators': 200}\n",
      "Average Matthews correlation: 0.8084548331984114\n",
      "\n",
      "Testing combination: {'criterion': 'entropy', 'max_features': 'log2', 'n_estimators': 300}\n",
      "Average Matthews correlation: 0.8072806773744206\n",
      "\n",
      "Testing combination: {'criterion': 'entropy', 'max_features': 'log2', 'n_estimators': 700}\n",
      "Average Matthews correlation: 0.8072806773744206\n",
      "\n",
      "Testing combination: {'criterion': 'entropy', 'max_features': 'sqrt', 'n_estimators': 10}\n",
      "Average Matthews correlation: 0.801009124961741\n",
      "\n",
      "Testing combination: {'criterion': 'entropy', 'max_features': 'sqrt', 'n_estimators': 50}\n",
      "Average Matthews correlation: 0.8084548331984114\n",
      "\n",
      "Testing combination: {'criterion': 'entropy', 'max_features': 'sqrt', 'n_estimators': 100}\n",
      "Average Matthews correlation: 0.8084548331984114\n",
      "\n",
      "Testing combination: {'criterion': 'entropy', 'max_features': 'sqrt', 'n_estimators': 200}\n",
      "Average Matthews correlation: 0.8068911193845247\n",
      "\n",
      "Testing combination: {'criterion': 'entropy', 'max_features': 'sqrt', 'n_estimators': 300}\n",
      "Average Matthews correlation: 0.8068911193845247\n",
      "\n",
      "Testing combination: {'criterion': 'entropy', 'max_features': 'sqrt', 'n_estimators': 700}\n",
      "Average Matthews correlation: 0.8084548331984114\n",
      "\n"
     ]
    }
   ],
   "source": [
    "for setting in param_grid:\n",
    "    print(f\"Testing combination: {setting}\")\n",
    "    \n",
    "    \n",
    "    aucs, accs, mccs, recalls, precs, f1_scores = [], [], [], [], [], []\n",
    "   \n",
    "        \n",
    "    auc,acc2,mcc,recall,precision,F1_score = train_rf(X_train, X_test, y_train, y_test, \n",
    "                                                             n_estimators=setting['n_estimators'], \n",
    "                                                             criterion=setting['criterion'],\n",
    "                                                             max_features=setting['max_features'])\n",
    "        \n",
    "    aucs.append(auc)\n",
    "    accs.append(acc2)\n",
    "    mccs.append(mcc)\n",
    "    MCC.append(mcc)\n",
    "    recalls.append(recall)\n",
    "    precs.append(precision)\n",
    "    f1_scores.append(F1_score)\n",
    "    \n",
    "    print(f\"Average Matthews correlation: {np.mean(mccs)}\")\n",
    "   \n",
    "    print()"
   ]
  },
  {
   "cell_type": "markdown",
   "metadata": {},
   "source": [
    "The mean score of the Matthews correlation from all the different testing combinations."
   ]
  },
  {
   "cell_type": "code",
   "execution_count": 30,
   "metadata": {},
   "outputs": [
    {
     "data": {
      "text/plain": [
       "0.8076599473510552"
      ]
     },
     "execution_count": 30,
     "metadata": {},
     "output_type": "execute_result"
    }
   ],
   "source": [
    "np.mean(MCC)"
   ]
  },
  {
   "cell_type": "code",
   "execution_count": 31,
   "metadata": {},
   "outputs": [
    {
     "data": {
      "text/plain": [
       "(0.8135612528114817, 0.862)"
      ]
     },
     "execution_count": 31,
     "metadata": {},
     "output_type": "execute_result"
    }
   ],
   "source": [
    "np.amax(MCC), top_mcc_scores['CHEMBL205']"
   ]
  },
  {
   "cell_type": "code",
   "execution_count": null,
   "metadata": {},
   "outputs": [],
   "source": []
  }
 ],
 "metadata": {
  "kernelspec": {
   "display_name": "Python 3",
   "language": "python",
   "name": "python3"
  },
  "language_info": {
   "codemirror_mode": {
    "name": "ipython",
    "version": 3
   },
   "file_extension": ".py",
   "mimetype": "text/x-python",
   "name": "python",
   "nbconvert_exporter": "python",
   "pygments_lexer": "ipython3",
   "version": "3.8.6"
  }
 },
 "nbformat": 4,
 "nbformat_minor": 4
}
