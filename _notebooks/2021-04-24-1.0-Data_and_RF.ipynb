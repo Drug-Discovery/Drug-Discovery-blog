{
 "cells": [
  {
   "cell_type": "markdown",
   "metadata": {},
   "source": [
    "# 1 - Data preparations and Random Forest model"
   ]
  },
  {
   "cell_type": "markdown",
   "metadata": {},
   "source": [
    "# Backround"
   ]
  },
  {
   "cell_type": "markdown",
   "metadata": {},
   "source": [
    "The article uses the highly used and preprocessed bioactivity dataset from the ChEMBL database, version 20. More specifically these seven different bioactivity classes:"
   ]
  },
  {
   "cell_type": "markdown",
   "metadata": {},
   "source": [
    "(a) Carbonic Anhydrase II (ChEMBL205), a protein lyase,  \n",
    "(b) Cyclin-dependent kinase 2 (CHEMBL301), a protein kinase,  \n",
    "(c) ether-a-go-go-related gene potassium channel 1 (HERG) (CHEMBL240), a voltage-gated ion channel,  \n",
    "(d) Dopamine D4 receptor (CHEMBL219), a monoamine GPCR,  \n",
    "(e) Coagulation factor X (CHEMBL244), a serine protease,  \n",
    "(f) Cannabinoid CB1 receptor (CHEMBL218), a lipid-like GPCR and  \n",
    "(g) Cytochrome P450 19A1 (CHEMBL1978), a cytochrome P450.  \n",
    "The activity classes were selected based on data availability and as representatives of therapeutically important target classes or as anti-targets."
   ]
  },
  {
   "cell_type": "markdown",
   "metadata": {},
   "source": [
    "In this project we will mainly focus on (a) the ChEMBL205 and (f) ChEMBL218 as these got quite different results from each other. Also "
   ]
  },
  {
   "cell_type": "code",
   "execution_count": 20,
   "metadata": {},
   "outputs": [
    {
     "name": "stdout",
     "output_type": "stream",
     "text": [
      "Mon Apr 26 14:10:49 2021       \n",
      "+-----------------------------------------------------------------------------+\n",
      "| NVIDIA-SMI 450.36.06    Driver Version: 450.36.06    CUDA Version: 11.0     |\n",
      "|-------------------------------+----------------------+----------------------+\n",
      "| GPU  Name        Persistence-M| Bus-Id        Disp.A | Volatile Uncorr. ECC |\n",
      "| Fan  Temp  Perf  Pwr:Usage/Cap|         Memory-Usage | GPU-Util  Compute M. |\n",
      "|                               |                      |               MIG M. |\n",
      "|===============================+======================+======================|\n",
      "|   0  Quadro P5000        On   | 00000000:00:05.0 Off |                  Off |\n",
      "| 26%   32C    P8     6W / 180W |      1MiB / 16278MiB |      0%      Default |\n",
      "|                               |                      |                  N/A |\n",
      "+-------------------------------+----------------------+----------------------+\n",
      "                                                                               \n",
      "+-----------------------------------------------------------------------------+\n",
      "| Processes:                                                                  |\n",
      "|  GPU   GI   CI        PID   Type   Process name                  GPU Memory |\n",
      "|        ID   ID                                                   Usage      |\n",
      "|=============================================================================|\n",
      "|  No running processes found                                                 |\n",
      "+-----------------------------------------------------------------------------+\n",
      "WARNING: infoROM is corrupted at gpu 0000:00:05.0\n"
     ]
    }
   ],
   "source": [
    "#hide\n",
    "!nvidia-smi"
   ]
  },
  {
   "cell_type": "code",
   "execution_count": 1,
   "metadata": {},
   "outputs": [],
   "source": [
    "#hide\n",
    "import pandas as pd\n",
    "import numpy as np\n",
    "from pathlib import Path"
   ]
  },
  {
   "cell_type": "code",
   "execution_count": 2,
   "metadata": {},
   "outputs": [],
   "source": [
    "%%capture\n",
    "#hide\n",
    "!wget -c https://repo.continuum.io/miniconda/Miniconda3-latest-Linux-x86_64.sh\n",
    "!chmod +x Miniconda3-latest-Linux-x86_64.sh\n",
    "!time bash ./Miniconda3-latest-Linux-x86_64.sh -b -f -p /usr/local\n",
    "!time conda install -q -y -c conda-forge rdkit"
   ]
  },
  {
   "cell_type": "code",
   "execution_count": 3,
   "metadata": {},
   "outputs": [],
   "source": [
    "#hide\n",
    "from rdkit import Chem\n",
    "from rdkit.Chem import AllChem"
   ]
  },
  {
   "cell_type": "code",
   "execution_count": 6,
   "metadata": {},
   "outputs": [],
   "source": [
    "#hide\n",
    "path = Path('dataset/13321_2017_226_MOESM1_ESM/')\n",
    "#df = pd.read_csv('../dataset/13321_2017_226_MOESM1_ESM/CHEMBL205_cl.csv', index_col=0)"
   ]
  },
  {
   "cell_type": "code",
   "execution_count": 7,
   "metadata": {
    "scrolled": true
   },
   "outputs": [
    {
     "data": {
      "text/plain": [
       "[PosixPath('dataset/13321_2017_226_MOESM1_ESM/CHEMBL205_cl_ecfp_1024.csv'),\n",
       " PosixPath('dataset/13321_2017_226_MOESM1_ESM/CHEMBL205_cl.csv')]"
      ]
     },
     "execution_count": 7,
     "metadata": {},
     "output_type": "execute_result"
    }
   ],
   "source": [
    "#hide\n",
    "#df.head()\n",
    "list(path.iterdir())"
   ]
  },
  {
   "cell_type": "markdown",
   "metadata": {},
   "source": [
    "First we need to convert the smiles from the dataset to ECFP fingerprint which is hashed into 1024 length bits. For this we made a function for creating a fingerprint using the methods from the RDKit library as follows: "
   ]
  },
  {
   "cell_type": "code",
   "execution_count": 8,
   "metadata": {},
   "outputs": [],
   "source": [
    "def fp(smile, diam = 2, bits = 1024):\n",
    "\n",
    "    mol = Chem.MolFromSmiles(smile)\n",
    "    Chem.SanitizeMol(mol)\n",
    "    fp = AllChem.GetMorganFingerprintAsBitVect(mol, diam, nBits = bits) \n",
    "    return fp"
   ]
  },
  {
   "cell_type": "markdown",
   "metadata": {},
   "source": [
    "We then define a method for converting the csv with smiles to also have the fingerprint stored as colums from ECFP_1 to ECFP_1024 for each row. "
   ]
  },
  {
   "cell_type": "code",
   "execution_count": 10,
   "metadata": {},
   "outputs": [],
   "source": [
    "#ECFP4\n",
    "#Generated Circular fingerprints hashed into n bits length vectors.\n",
    "\n",
    "def ECFP(ifile, ofile, diam, bits):\n",
    "    \n",
    "    print(f\"Making fingerprints for file: {ifile}\")\n",
    "    df = pd.read_csv(ifile)\n",
    "    \n",
    "    df.insert(2, \"ECFP4_\", df.SMILES.apply(fp))\n",
    "    \n",
    "    df[[f\"ECFP4_{i+1}\" for i in range(len(df.ECFP4_[0]))]] = df.ECFP4_.to_list()\n",
    "    \n",
    "    df.drop(\"ECFP4_\", axis = 1, inplace = True)\n",
    "    \n",
    "    \n",
    "    df.to_csv(path/ofile, index = None)\n",
    "    return df"
   ]
  },
  {
   "cell_type": "markdown",
   "metadata": {},
   "source": [
    "Here we can specify the dataset we want to use and to run the ECFP function on. "
   ]
  },
  {
   "cell_type": "code",
   "execution_count": 11,
   "metadata": {},
   "outputs": [],
   "source": [
    "dataset='CHEMBL205_cl'"
   ]
  },
  {
   "cell_type": "code",
   "execution_count": 12,
   "metadata": {},
   "outputs": [],
   "source": [
    "#hide_output\n",
    "#ECFP(path/f'{dataset}.csv', f'./{dataset}_ecfp_1024.csv', 2, 1024)"
   ]
  },
  {
   "cell_type": "markdown",
   "metadata": {},
   "source": [
    "Next we create a dataframe from the newly generated csv file. "
   ]
  },
  {
   "cell_type": "code",
   "execution_count": 13,
   "metadata": {},
   "outputs": [],
   "source": [
    "df = pd.read_csv(path/f'{dataset}_ecfp_1024.csv')"
   ]
  },
  {
   "cell_type": "code",
   "execution_count": 14,
   "metadata": {},
   "outputs": [
    {
     "data": {
      "text/html": [
       "<div>\n",
       "<style scoped>\n",
       "    .dataframe tbody tr th:only-of-type {\n",
       "        vertical-align: middle;\n",
       "    }\n",
       "\n",
       "    .dataframe tbody tr th {\n",
       "        vertical-align: top;\n",
       "    }\n",
       "\n",
       "    .dataframe thead th {\n",
       "        text-align: right;\n",
       "    }\n",
       "</style>\n",
       "<table border=\"1\" class=\"dataframe\">\n",
       "  <thead>\n",
       "    <tr style=\"text-align: right;\">\n",
       "      <th></th>\n",
       "      <th>CID</th>\n",
       "      <th>SMILES</th>\n",
       "      <th>Activity</th>\n",
       "      <th>ECFP4_1</th>\n",
       "      <th>ECFP4_2</th>\n",
       "      <th>ECFP4_3</th>\n",
       "      <th>ECFP4_4</th>\n",
       "      <th>ECFP4_5</th>\n",
       "      <th>ECFP4_6</th>\n",
       "      <th>ECFP4_7</th>\n",
       "      <th>...</th>\n",
       "      <th>ECFP4_1015</th>\n",
       "      <th>ECFP4_1016</th>\n",
       "      <th>ECFP4_1017</th>\n",
       "      <th>ECFP4_1018</th>\n",
       "      <th>ECFP4_1019</th>\n",
       "      <th>ECFP4_1020</th>\n",
       "      <th>ECFP4_1021</th>\n",
       "      <th>ECFP4_1022</th>\n",
       "      <th>ECFP4_1023</th>\n",
       "      <th>ECFP4_1024</th>\n",
       "    </tr>\n",
       "  </thead>\n",
       "  <tbody>\n",
       "    <tr>\n",
       "      <th>0</th>\n",
       "      <td>CHEMBL188002</td>\n",
       "      <td>S(=O)(=O)(N)c1cc(N/C(/S)=N\\c2cc(C(=O)[O-])c(cc...</td>\n",
       "      <td>1</td>\n",
       "      <td>0</td>\n",
       "      <td>0</td>\n",
       "      <td>0</td>\n",
       "      <td>0</td>\n",
       "      <td>0</td>\n",
       "      <td>0</td>\n",
       "      <td>0</td>\n",
       "      <td>...</td>\n",
       "      <td>0</td>\n",
       "      <td>0</td>\n",
       "      <td>0</td>\n",
       "      <td>0</td>\n",
       "      <td>0</td>\n",
       "      <td>0</td>\n",
       "      <td>0</td>\n",
       "      <td>0</td>\n",
       "      <td>0</td>\n",
       "      <td>0</td>\n",
       "    </tr>\n",
       "    <tr>\n",
       "      <th>1</th>\n",
       "      <td>CHEMBL364127</td>\n",
       "      <td>Clc1ccc(cc1)C(=O)NC1Cc2cc(S(=O)(=O)N)ccc2C1</td>\n",
       "      <td>1</td>\n",
       "      <td>0</td>\n",
       "      <td>0</td>\n",
       "      <td>0</td>\n",
       "      <td>0</td>\n",
       "      <td>0</td>\n",
       "      <td>0</td>\n",
       "      <td>0</td>\n",
       "      <td>...</td>\n",
       "      <td>0</td>\n",
       "      <td>0</td>\n",
       "      <td>0</td>\n",
       "      <td>0</td>\n",
       "      <td>0</td>\n",
       "      <td>1</td>\n",
       "      <td>0</td>\n",
       "      <td>0</td>\n",
       "      <td>0</td>\n",
       "      <td>0</td>\n",
       "    </tr>\n",
       "    <tr>\n",
       "      <th>2</th>\n",
       "      <td>CHEMBL1683469</td>\n",
       "      <td>S(=O)(=O)(N)c1ccc(cc1)CNS(=O)(=O)CC12CCC(CC1=O...</td>\n",
       "      <td>1</td>\n",
       "      <td>0</td>\n",
       "      <td>0</td>\n",
       "      <td>0</td>\n",
       "      <td>0</td>\n",
       "      <td>0</td>\n",
       "      <td>0</td>\n",
       "      <td>0</td>\n",
       "      <td>...</td>\n",
       "      <td>0</td>\n",
       "      <td>0</td>\n",
       "      <td>0</td>\n",
       "      <td>0</td>\n",
       "      <td>0</td>\n",
       "      <td>1</td>\n",
       "      <td>0</td>\n",
       "      <td>0</td>\n",
       "      <td>0</td>\n",
       "      <td>0</td>\n",
       "    </tr>\n",
       "    <tr>\n",
       "      <th>3</th>\n",
       "      <td>CHEMBL52564</td>\n",
       "      <td>Oc1ccccc1\\C=C\\C(=O)[O-]</td>\n",
       "      <td>1</td>\n",
       "      <td>0</td>\n",
       "      <td>0</td>\n",
       "      <td>0</td>\n",
       "      <td>0</td>\n",
       "      <td>0</td>\n",
       "      <td>0</td>\n",
       "      <td>0</td>\n",
       "      <td>...</td>\n",
       "      <td>0</td>\n",
       "      <td>0</td>\n",
       "      <td>0</td>\n",
       "      <td>0</td>\n",
       "      <td>0</td>\n",
       "      <td>0</td>\n",
       "      <td>0</td>\n",
       "      <td>0</td>\n",
       "      <td>0</td>\n",
       "      <td>0</td>\n",
       "    </tr>\n",
       "    <tr>\n",
       "      <th>4</th>\n",
       "      <td>CHEMBL21427</td>\n",
       "      <td>OB(O)c1ccc(OC)cc1</td>\n",
       "      <td>1</td>\n",
       "      <td>0</td>\n",
       "      <td>0</td>\n",
       "      <td>0</td>\n",
       "      <td>0</td>\n",
       "      <td>0</td>\n",
       "      <td>0</td>\n",
       "      <td>0</td>\n",
       "      <td>...</td>\n",
       "      <td>0</td>\n",
       "      <td>0</td>\n",
       "      <td>0</td>\n",
       "      <td>0</td>\n",
       "      <td>0</td>\n",
       "      <td>0</td>\n",
       "      <td>0</td>\n",
       "      <td>0</td>\n",
       "      <td>0</td>\n",
       "      <td>0</td>\n",
       "    </tr>\n",
       "  </tbody>\n",
       "</table>\n",
       "<p>5 rows × 1027 columns</p>\n",
       "</div>"
      ],
      "text/plain": [
       "             CID                                             SMILES  Activity  \\\n",
       "0   CHEMBL188002  S(=O)(=O)(N)c1cc(N/C(/S)=N\\c2cc(C(=O)[O-])c(cc...         1   \n",
       "1   CHEMBL364127        Clc1ccc(cc1)C(=O)NC1Cc2cc(S(=O)(=O)N)ccc2C1         1   \n",
       "2  CHEMBL1683469  S(=O)(=O)(N)c1ccc(cc1)CNS(=O)(=O)CC12CCC(CC1=O...         1   \n",
       "3    CHEMBL52564                            Oc1ccccc1\\C=C\\C(=O)[O-]         1   \n",
       "4    CHEMBL21427                                  OB(O)c1ccc(OC)cc1         1   \n",
       "\n",
       "   ECFP4_1  ECFP4_2  ECFP4_3  ECFP4_4  ECFP4_5  ECFP4_6  ECFP4_7  ...  \\\n",
       "0        0        0        0        0        0        0        0  ...   \n",
       "1        0        0        0        0        0        0        0  ...   \n",
       "2        0        0        0        0        0        0        0  ...   \n",
       "3        0        0        0        0        0        0        0  ...   \n",
       "4        0        0        0        0        0        0        0  ...   \n",
       "\n",
       "   ECFP4_1015  ECFP4_1016  ECFP4_1017  ECFP4_1018  ECFP4_1019  ECFP4_1020  \\\n",
       "0           0           0           0           0           0           0   \n",
       "1           0           0           0           0           0           1   \n",
       "2           0           0           0           0           0           1   \n",
       "3           0           0           0           0           0           0   \n",
       "4           0           0           0           0           0           0   \n",
       "\n",
       "   ECFP4_1021  ECFP4_1022  ECFP4_1023  ECFP4_1024  \n",
       "0           0           0           0           0  \n",
       "1           0           0           0           0  \n",
       "2           0           0           0           0  \n",
       "3           0           0           0           0  \n",
       "4           0           0           0           0  \n",
       "\n",
       "[5 rows x 1027 columns]"
      ]
     },
     "execution_count": 14,
     "metadata": {},
     "output_type": "execute_result"
    }
   ],
   "source": [
    "df.head()"
   ]
  },
  {
   "cell_type": "code",
   "execution_count": 15,
   "metadata": {},
   "outputs": [
    {
     "name": "stdout",
     "output_type": "stream",
     "text": [
      "<class 'pandas.core.frame.DataFrame'>\n",
      "RangeIndex: 17941 entries, 0 to 17940\n",
      "Columns: 1027 entries, CID to ECFP4_1024\n",
      "dtypes: int64(1025), object(2)\n",
      "memory usage: 140.6+ MB\n"
     ]
    }
   ],
   "source": [
    "df.info()"
   ]
  },
  {
   "cell_type": "code",
   "execution_count": 16,
   "metadata": {},
   "outputs": [],
   "source": [
    "X, y = df.drop([\"CID\", \"SMILES\", \"Activity\"], axis=1), df[\"Activity\"]"
   ]
  },
  {
   "cell_type": "code",
   "execution_count": 17,
   "metadata": {},
   "outputs": [
    {
     "name": "stdout",
     "output_type": "stream",
     "text": [
      "<class 'pandas.core.frame.DataFrame'>\n",
      "RangeIndex: 17941 entries, 0 to 17940\n",
      "Columns: 1024 entries, ECFP4_1 to ECFP4_1024\n",
      "dtypes: int64(1024)\n",
      "memory usage: 140.2 MB\n"
     ]
    }
   ],
   "source": [
    "#hide\n",
    "X.info()"
   ]
  },
  {
   "cell_type": "code",
   "execution_count": 18,
   "metadata": {},
   "outputs": [
    {
     "data": {
      "text/plain": [
       "(0    1\n",
       " 1    1\n",
       " 2    1\n",
       " 3    1\n",
       " 4    1\n",
       " Name: Activity, dtype: int64,\n",
       " 17941,\n",
       " pandas.core.series.Series)"
      ]
     },
     "execution_count": 18,
     "metadata": {},
     "output_type": "execute_result"
    }
   ],
   "source": [
    "#hide\n",
    "y.head(), y.size, type(y)"
   ]
  },
  {
   "cell_type": "markdown",
   "metadata": {},
   "source": [
    "# Train test split"
   ]
  },
  {
   "cell_type": "code",
   "execution_count": 21,
   "metadata": {},
   "outputs": [],
   "source": [
    "#hide\n",
    "from sklearn.model_selection import train_test_split, KFold"
   ]
  },
  {
   "cell_type": "code",
   "execution_count": 22,
   "metadata": {},
   "outputs": [],
   "source": [
    "# regular train/test split\n",
    "X_train, X_test, y_train, y_test = train_test_split(X, y, test_size=0.4, random_state=666)"
   ]
  },
  {
   "cell_type": "markdown",
   "metadata": {},
   "source": [
    "# 5-Fold Cross Validation"
   ]
  },
  {
   "cell_type": "markdown",
   "metadata": {},
   "source": [
    "Follows the article where the data is split using 5-fold cross validation. "
   ]
  },
  {
   "cell_type": "code",
   "execution_count": 23,
   "metadata": {},
   "outputs": [],
   "source": [
    "#5-fold\n",
    "kf = KFold(n_splits=5, shuffle=True, random_state=999)"
   ]
  },
  {
   "cell_type": "code",
   "execution_count": 24,
   "metadata": {},
   "outputs": [],
   "source": [
    "X_train_list, X_valid_list, y_train_list, y_valid_list = [], [], [], []\n",
    "\n",
    "for train_index, valid_index in kf.split(X_train):\n",
    "    X_train_list.append(X_train.iloc[train_index])\n",
    "    X_valid_list.append(X_train.iloc[valid_index])\n",
    "    y_train_list.append(y_train.iloc[train_index])\n",
    "    y_valid_list.append(y_train.iloc[valid_index])"
   ]
  },
  {
   "cell_type": "code",
   "execution_count": 25,
   "metadata": {},
   "outputs": [
    {
     "data": {
      "text/plain": [
       "14960    0\n",
       "16280    0\n",
       "16068    0\n",
       "13692    0\n",
       "14043    0\n",
       "Name: Activity, dtype: int64"
      ]
     },
     "execution_count": 25,
     "metadata": {},
     "output_type": "execute_result"
    }
   ],
   "source": [
    "#hide\n",
    "y_train_list[0].head()"
   ]
  },
  {
   "cell_type": "code",
   "execution_count": 26,
   "metadata": {},
   "outputs": [
    {
     "name": "stdout",
     "output_type": "stream",
     "text": [
      "<class 'pandas.core.frame.DataFrame'>\n",
      "Int64Index: 8611 entries, 14960 to 10114\n",
      "Columns: 1024 entries, ECFP4_1 to ECFP4_1024\n",
      "dtypes: int64(1024)\n",
      "memory usage: 67.3 MB\n"
     ]
    }
   ],
   "source": [
    "#hide\n",
    "X_train_list[1].info()"
   ]
  },
  {
   "cell_type": "markdown",
   "metadata": {},
   "source": [
    "# Random Forest comparison"
   ]
  },
  {
   "cell_type": "code",
   "execution_count": 27,
   "metadata": {},
   "outputs": [],
   "source": [
    "#hide\n",
    "from sklearn.ensemble import RandomForestClassifier\n",
    "from sklearn.model_selection import ParameterGrid"
   ]
  },
  {
   "cell_type": "code",
   "execution_count": 28,
   "metadata": {},
   "outputs": [],
   "source": [
    "#hide\n",
    "from sklearn.metrics import auc,roc_auc_score,recall_score,precision_score,f1_score\n",
    "from  sklearn.metrics import matthews_corrcoef\n",
    "from sklearn.metrics import accuracy_score"
   ]
  },
  {
   "cell_type": "code",
   "execution_count": 29,
   "metadata": {},
   "outputs": [],
   "source": [
    "#hide\n",
    "top_mcc_scores = {\n",
    "    \n",
    "    'CHEMBL205': 0.862,\n",
    "    'CHEMBL301': 0.926,\n",
    "    'CHEMBL240': 0.884,\n",
    "    'CHEMBL219': 0.887,\n",
    "    'CHEMBL244': 0.983,\n",
    "    'CHEMBL218': 0.941,\n",
    "    'CHEMBL1978': 0.904\n",
    "}"
   ]
  },
  {
   "cell_type": "markdown",
   "metadata": {},
   "source": [
    "Here, a Random Forest model is used, the settings from the paper is used with going through the different setting in each CV iteration. A Random Forest model is usually a very good performance model for classification, that is the main reason for its usage here. "
   ]
  },
  {
   "cell_type": "code",
   "execution_count": 30,
   "metadata": {},
   "outputs": [],
   "source": [
    "param_grid = {\n",
    "    'n_estimators': [10,50,100,200,300,700], \n",
    "    'criterion': ['gini', 'entropy'],\n",
    "    'max_features': ['log2', 'sqrt']\n",
    "             }\n",
    "\n",
    "param_grid = ParameterGrid(param_grid)"
   ]
  },
  {
   "cell_type": "markdown",
   "metadata": {},
   "source": [
    "Function for training a Random Forest classifier with the specified parameters, default: n_estimators=5, criterion='gini', max_features='log2'"
   ]
  },
  {
   "cell_type": "code",
   "execution_count": 31,
   "metadata": {},
   "outputs": [],
   "source": [
    "# train method for Random Forest\n",
    "def train_rf(X_train, X_test, y_train, y_test, n_estimators=5, criterion='gini', max_features='log2'):\n",
    "\n",
    "    \n",
    "    rf = RandomForestClassifier(n_estimators=n_estimators, criterion=criterion, min_samples_split=2, max_features=max_features, \n",
    "                               max_leaf_nodes=None,bootstrap=False,oob_score=False, n_jobs=-1, random_state=69)\n",
    "    \n",
    "    rf.fit(X_train,y_train)\n",
    "    y_pred= rf.predict(X_test)\n",
    "    y_pred_prob=rf.predict_proba(X_test)\n",
    "    \n",
    "    temp=[]\n",
    "    for j in range(len(y_pred_prob)):\n",
    "        temp.append(y_pred_prob[j][1])\n",
    "    auc=roc_auc_score(np.array(y_test),np.array(temp))\n",
    "    acc2=accuracy_score(y_test,y_pred)\n",
    "    mcc=matthews_corrcoef(y_test,y_pred)\n",
    "    Recall=recall_score(y_test, y_pred,pos_label=1)\n",
    "    Precision=precision_score(y_test, y_pred,pos_label=1)\n",
    "    F1_score=f1_score(y_test, y_pred,pos_label=1)\n",
    "\n",
    "    return auc,acc2,mcc,Recall,Precision,F1_score"
   ]
  },
  {
   "cell_type": "markdown",
   "metadata": {},
   "source": [
    "Next we test all the different settings on the random forest model"
   ]
  },
  {
   "cell_type": "code",
   "execution_count": 35,
   "metadata": {},
   "outputs": [
    {
     "name": "stdout",
     "output_type": "stream",
     "text": [
      "Testing combination: {'criterion': 'gini', 'max_features': 'log2', 'n_estimators': 10}\n",
      "Average ROCAUC of the folds: 0.9772882110994567\n",
      "Average accuracy of the folds: 0.9667270447262087\n",
      "Average Matthews correlation of the folds: 0.7860500038292063\n",
      "Average recall of the folds: 0.7372307692307694\n",
      "Average precision of the folds: 0.8760069960166821\n",
      "Average f1 score of the folds: 0.800503358063245\n",
      "\n",
      "Testing combination: {'criterion': 'gini', 'max_features': 'log2', 'n_estimators': 50}\n",
      "Average ROCAUC of the folds: 0.9883235554088932\n",
      "Average accuracy of the folds: 0.9716316009474711\n",
      "Average Matthews correlation of the folds: 0.8209589646616985\n",
      "Average recall of the folds: 0.7926153846153847\n",
      "Average precision of the folds: 0.8822409748917097\n",
      "Average f1 score of the folds: 0.83500841879966\n",
      "\n",
      "Testing combination: {'criterion': 'gini', 'max_features': 'log2', 'n_estimators': 100}\n",
      "Average ROCAUC of the folds: 0.9897701382423307\n",
      "Average accuracy of the folds: 0.971743068134318\n",
      "Average Matthews correlation of the folds: 0.8215468433293995\n",
      "Average recall of the folds: 0.7923076923076924\n",
      "Average precision of the folds: 0.883681362094854\n",
      "Average f1 score of the folds: 0.8354713493040207\n",
      "\n",
      "Testing combination: {'criterion': 'gini', 'max_features': 'log2', 'n_estimators': 200}\n",
      "Average ROCAUC of the folds: 0.9903762124194175\n",
      "Average accuracy of the folds: 0.9720774696948584\n",
      "Average Matthews correlation of the folds: 0.8238100152984001\n",
      "Average recall of the folds: 0.7953846153846154\n",
      "Average precision of the folds: 0.8846597606510033\n",
      "Average f1 score of the folds: 0.8376368086620165\n",
      "\n",
      "Testing combination: {'criterion': 'gini', 'max_features': 'log2', 'n_estimators': 300}\n",
      "Average ROCAUC of the folds: 0.9905535114494821\n",
      "Average accuracy of the folds: 0.9722168036784172\n",
      "Average Matthews correlation of the folds: 0.8249672684508293\n",
      "Average recall of the folds: 0.7984615384615384\n",
      "Average precision of the folds: 0.8835781774076714\n",
      "Average f1 score of the folds: 0.838854526090383\n",
      "\n",
      "Testing combination: {'criterion': 'gini', 'max_features': 'log2', 'n_estimators': 700}\n",
      "Average ROCAUC of the folds: 0.9908532604212089\n",
      "Average accuracy of the folds: 0.9721889368817054\n",
      "Average Matthews correlation of the folds: 0.8248672775803916\n",
      "Average recall of the folds: 0.7990769230769231\n",
      "Average precision of the folds: 0.8827487938727472\n",
      "Average f1 score of the folds: 0.8388064256004263\n",
      "\n",
      "Testing combination: {'criterion': 'gini', 'max_features': 'sqrt', 'n_estimators': 10}\n",
      "Average ROCAUC of the folds: 0.9772568148872729\n",
      "Average accuracy of the folds: 0.9685941201058939\n",
      "Average Matthews correlation of the folds: 0.801694981605307\n",
      "Average recall of the folds: 0.7766153846153846\n",
      "Average precision of the folds: 0.8629193877802063\n",
      "Average f1 score of the folds: 0.8174913388674341\n",
      "\n",
      "Testing combination: {'criterion': 'gini', 'max_features': 'sqrt', 'n_estimators': 50}\n",
      "Average ROCAUC of the folds: 0.9871096392499794\n",
      "Average accuracy of the folds: 0.9709627978263897\n",
      "Average Matthews correlation of the folds: 0.8197484029807942\n",
      "Average recall of the folds: 0.812923076923077\n",
      "Average precision of the folds: 0.858933897696472\n",
      "Average f1 score of the folds: 0.8352657808393531\n",
      "\n",
      "Testing combination: {'criterion': 'gini', 'max_features': 'sqrt', 'n_estimators': 100}\n",
      "Average ROCAUC of the folds: 0.9887458721759319\n",
      "Average accuracy of the folds: 0.9715758673540476\n",
      "Average Matthews correlation of the folds: 0.8238137649341255\n",
      "Average recall of the folds: 0.818153846153846\n",
      "Average precision of the folds: 0.8610968655939681\n",
      "Average f1 score of the folds: 0.8390530575198107\n",
      "\n",
      "Testing combination: {'criterion': 'gini', 'max_features': 'sqrt', 'n_estimators': 200}\n",
      "Average ROCAUC of the folds: 0.9888152879753923\n",
      "Average accuracy of the folds: 0.9723840044586873\n",
      "Average Matthews correlation of the folds: 0.8289251494410698\n",
      "Average recall of the folds: 0.8233846153846155\n",
      "Average precision of the folds: 0.8651762364626471\n",
      "Average f1 score of the folds: 0.8437446620112299\n",
      "\n",
      "Testing combination: {'criterion': 'gini', 'max_features': 'sqrt', 'n_estimators': 300}\n",
      "Average ROCAUC of the folds: 0.9891161447714228\n",
      "Average accuracy of the folds: 0.9723561376619756\n",
      "Average Matthews correlation of the folds: 0.828566538703412\n",
      "Average recall of the folds: 0.821846153846154\n",
      "Average precision of the folds: 0.8660686746587011\n",
      "Average f1 score of the folds: 0.843364299633399\n",
      "\n",
      "Testing combination: {'criterion': 'gini', 'max_features': 'sqrt', 'n_estimators': 700}\n",
      "Average ROCAUC of the folds: 0.9894152101919836\n",
      "Average accuracy of the folds: 0.9724397380521109\n",
      "Average Matthews correlation of the folds: 0.829156614702144\n",
      "Average recall of the folds: 0.8227692307692308\n",
      "Average precision of the folds: 0.8662129059726817\n",
      "Average f1 score of the folds: 0.8439271211097632\n",
      "\n",
      "Testing combination: {'criterion': 'entropy', 'max_features': 'log2', 'n_estimators': 10}\n",
      "Average ROCAUC of the folds: 0.9804304486688429\n",
      "Average accuracy of the folds: 0.9679253169848125\n",
      "Average Matthews correlation of the folds: 0.7937533455572263\n",
      "Average recall of the folds: 0.7427692307692307\n",
      "Average precision of the folds: 0.8846853049526121\n",
      "Average f1 score of the folds: 0.8074645155199276\n",
      "\n",
      "Testing combination: {'criterion': 'entropy', 'max_features': 'log2', 'n_estimators': 50}\n",
      "Average ROCAUC of the folds: 0.9900928922464084\n",
      "Average accuracy of the folds: 0.971854535321165\n",
      "Average Matthews correlation of the folds: 0.822328710871904\n",
      "Average recall of the folds: 0.7935384615384615\n",
      "Average precision of the folds: 0.8838282161189858\n",
      "Average f1 score of the folds: 0.8362435918877612\n",
      "\n",
      "Testing combination: {'criterion': 'entropy', 'max_features': 'log2', 'n_estimators': 100}\n",
      "Average ROCAUC of the folds: 0.9905116969746969\n",
      "Average accuracy of the folds: 0.9718266685244531\n",
      "Average Matthews correlation of the folds: 0.8221385357433695\n",
      "Average recall of the folds: 0.7932307692307692\n",
      "Average precision of the folds: 0.8838186927317839\n",
      "Average f1 score of the folds: 0.8360435636998712\n",
      "\n",
      "Testing combination: {'criterion': 'entropy', 'max_features': 'log2', 'n_estimators': 200}\n",
      "Average ROCAUC of the folds: 0.9910789501596916\n",
      "Average accuracy of the folds: 0.9724118712553992\n",
      "Average Matthews correlation of the folds: 0.8262529644111316\n",
      "Average recall of the folds: 0.8\n",
      "Average precision of the folds: 0.8843894471999943\n",
      "Average f1 score of the folds: 0.8400419434408519\n",
      "\n",
      "Testing combination: {'criterion': 'entropy', 'max_features': 'log2', 'n_estimators': 300}\n",
      "Average ROCAUC of the folds: 0.9911039115626217\n",
      "Average accuracy of the folds: 0.9723561376619758\n",
      "Average Matthews correlation of the folds: 0.8261580994481952\n",
      "Average recall of the folds: 0.8018461538461539\n",
      "Average precision of the folds: 0.8822698543953127\n",
      "Average f1 score of the folds: 0.8400967620207005\n",
      "\n",
      "Testing combination: {'criterion': 'entropy', 'max_features': 'log2', 'n_estimators': 700}\n",
      "Average ROCAUC of the folds: 0.9911414361645707\n",
      "Average accuracy of the folds: 0.9723840044586876\n",
      "Average Matthews correlation of the folds: 0.8264496010081249\n",
      "Average recall of the folds: 0.803076923076923\n",
      "Average precision of the folds: 0.8815263060754923\n",
      "Average f1 score of the folds: 0.8404267804418\n",
      "\n",
      "Testing combination: {'criterion': 'entropy', 'max_features': 'sqrt', 'n_estimators': 10}\n",
      "Average ROCAUC of the folds: 0.9792251593970607\n",
      "Average accuracy of the folds: 0.9692350564302632\n",
      "Average Matthews correlation of the folds: 0.8064290801915908\n",
      "Average recall of the folds: 0.7849230769230768\n",
      "Average precision of the folds: 0.8631094931906522\n",
      "Average f1 score of the folds: 0.8221043342025652\n",
      "\n",
      "Testing combination: {'criterion': 'entropy', 'max_features': 'sqrt', 'n_estimators': 50}\n",
      "Average ROCAUC of the folds: 0.9888097959953329\n",
      "Average accuracy of the folds: 0.9719938693047233\n",
      "Average Matthews correlation of the folds: 0.826327019013666\n",
      "Average recall of the folds: 0.8196923076923076\n",
      "Average precision of the folds: 0.8641589152909088\n",
      "Average f1 score of the folds: 0.841309602980508\n",
      "\n",
      "Testing combination: {'criterion': 'entropy', 'max_features': 'sqrt', 'n_estimators': 100}\n",
      "Average ROCAUC of the folds: 0.9898620405180847\n",
      "Average accuracy of the folds: 0.9724118712553992\n",
      "Average Matthews correlation of the folds: 0.8292029075535048\n",
      "Average recall of the folds: 0.8243076923076924\n",
      "Average precision of the folds: 0.8647413354240697\n",
      "Average f1 score of the folds: 0.8440388779058366\n",
      "\n",
      "Testing combination: {'criterion': 'entropy', 'max_features': 'sqrt', 'n_estimators': 200}\n"
     ]
    },
    {
     "name": "stdout",
     "output_type": "stream",
     "text": [
      "Average ROCAUC of the folds: 0.9899568655643423\n",
      "Average accuracy of the folds: 0.9726348056290929\n",
      "Average Matthews correlation of the folds: 0.8306298858661861\n",
      "Average recall of the folds: 0.8258461538461539\n",
      "Average precision of the folds: 0.865803297784208\n",
      "Average f1 score of the folds: 0.8453519472560641\n",
      "\n",
      "Testing combination: {'criterion': 'entropy', 'max_features': 'sqrt', 'n_estimators': 300}\n",
      "Average ROCAUC of the folds: 0.9901267869559582\n",
      "Average accuracy of the folds: 0.9724118712553992\n",
      "Average Matthews correlation of the folds: 0.8293221619482496\n",
      "Average recall of the folds: 0.8252307692307692\n",
      "Average precision of the folds: 0.8640346330095527\n",
      "Average f1 score of the folds: 0.8441788146153677\n",
      "\n",
      "Testing combination: {'criterion': 'entropy', 'max_features': 'sqrt', 'n_estimators': 700}\n",
      "Average ROCAUC of the folds: 0.9903818693945858\n",
      "Average accuracy of the folds: 0.9726626724258047\n",
      "Average Matthews correlation of the folds: 0.8309066881967601\n",
      "Average recall of the folds: 0.8267692307692307\n",
      "Average precision of the folds: 0.8653842324791043\n",
      "Average f1 score of the folds: 0.8456313021672045\n",
      "\n"
     ]
    }
   ],
   "source": [
    "for setting in param_grid:\n",
    "    print(f\"Testing combination: {setting}\")\n",
    "    \n",
    "    \n",
    "    aucs, accs, mccs, recalls, precs, f1_scores = [], [], [], [], [], []\n",
    "   \n",
    "    for i in range(0,5):\n",
    "    \n",
    "        X_train = X_train_list[i]\n",
    "        X_valid = X_valid_list[i]\n",
    "        y_train = y_train_list[i]\n",
    "        y_valid = y_valid_list[i]\n",
    "    \n",
    "        auc,acc2,mcc,recall,precision,F1_score = train_rf(X_train, X_test, y_train, y_test, \n",
    "                                                             n_estimators=setting['n_estimators'], \n",
    "                                                             criterion=setting['criterion'],\n",
    "                                                             max_features=setting['max_features'])\n",
    "        \n",
    "        aucs.append(auc)\n",
    "        accs.append(acc2)\n",
    "        mccs.append(mcc)\n",
    "        recalls.append(recall)\n",
    "        precs.append(precision)\n",
    "        f1_scores.append(F1_score)\n",
    "        \n",
    "    print(f\"Average ROCAUC of the folds: {np.mean(aucs)}\")\n",
    "    print(f\"Average accuracy of the folds: {np.mean(accs)}\")\n",
    "    print(f\"Average Matthews correlation of the folds: {np.mean(mccs)}\")\n",
    "    print(f\"Average recall of the folds: {np.mean(recalls)}\")\n",
    "    print(f\"Average precision of the folds: {np.mean(precs)}\")\n",
    "    print(f\"Average f1 score of the folds: {np.mean(f1_scores)}\")\n",
    "    print()"
   ]
  },
  {
   "cell_type": "markdown",
   "metadata": {},
   "source": [
    "Next, we choose the settings that gave us the best score and train a the model on these on all the folds. The results for each cross validation is displayed and the MCC compared to the best average score from the paper. "
   ]
  },
  {
   "cell_type": "code",
   "execution_count": 36,
   "metadata": {},
   "outputs": [],
   "source": [
    "MCC=[]"
   ]
  },
  {
   "cell_type": "code",
   "execution_count": 38,
   "metadata": {},
   "outputs": [
    {
     "name": "stdout",
     "output_type": "stream",
     "text": [
      "Cross validation iteration: 1\n",
      "AUC score:0.9895547345611034\n",
      "Accuracy: 0.9716674407803065\n",
      "Matthews: 0.8322885854488427\n",
      "Recall: 0.8415841584158416\n",
      "Precision: 0.8542713567839196\n",
      "F1 score: 0.8478802992518704\n",
      "\n",
      "Cross validation iteration: 2\n",
      "AUC score:0.9881408694710627\n",
      "Accuracy: 0.9772410589874594\n",
      "Matthews: 0.8543605077494866\n",
      "Recall: 0.8457446808510638\n",
      "Precision: 0.888268156424581\n",
      "F1 score: 0.8664850136239782\n",
      "\n",
      "Cross validation iteration: 3\n",
      "AUC score:0.99115142437103\n",
      "Accuracy: 0.972131908964236\n",
      "Matthews: 0.8182680063069008\n",
      "Recall: 0.819672131147541\n",
      "Precision: 0.847457627118644\n",
      "F1 score: 0.8333333333333333\n",
      "\n",
      "Cross validation iteration: 4\n",
      "AUC score:0.9761998796790828\n",
      "Accuracy: 0.9684161634928008\n",
      "Matthews: 0.8252479636345342\n",
      "Recall: 0.7964601769911505\n",
      "Precision: 0.8910891089108911\n",
      "F1 score: 0.8411214953271028\n",
      "\n",
      "Cross validation iteration: 5\n",
      "AUC score:0.992038545211134\n",
      "Accuracy: 0.9763011152416357\n",
      "Matthews: 0.8437545323349981\n",
      "Recall: 0.8351648351648352\n",
      "Precision: 0.8786127167630058\n",
      "F1 score: 0.8563380281690139\n",
      "\n"
     ]
    }
   ],
   "source": [
    "#collapse_output\n",
    "\n",
    "# Train and print scores for each split\n",
    "for i in range(0,5):\n",
    "    \n",
    "    print(f'Cross validation iteration: {i + 1}')\n",
    "    \n",
    "    X_train = X_train_list[i]\n",
    "    X_valid = X_valid_list[i]\n",
    "    y_train = y_train_list[i]\n",
    "    y_valid = y_valid_list[i]\n",
    "    \n",
    "    auc,acc2,mcc,Recall,Precision,F1_score = train_rf(X_train, X_valid, y_train, y_valid, \n",
    "                                                      n_estimators=200, criterion='entropy', max_features='sqrt')\n",
    "    MCC.append(mcc)\n",
    "    \n",
    "    print(f'AUC score:{auc}')\n",
    "    print(f'Accuracy: {acc2}')\n",
    "    print(f'Matthews: {mcc}')\n",
    "    print(f'Recall: {Recall}')\n",
    "    print(f'Precision: {Precision}')\n",
    "    print(f'F1 score: {F1_score}')\n",
    "    print()"
   ]
  },
  {
   "cell_type": "code",
   "execution_count": 39,
   "metadata": {},
   "outputs": [
    {
     "data": {
      "text/plain": [
       "(0.8360720667107868, 0.862)"
      ]
     },
     "execution_count": 39,
     "metadata": {},
     "output_type": "execute_result"
    }
   ],
   "source": [
    "np.mean(MCC), top_mcc_scores['CHEMBL205']"
   ]
  }
 ],
 "metadata": {
  "kernelspec": {
   "display_name": "Python 3",
   "language": "python",
   "name": "python3"
  },
  "language_info": {
   "codemirror_mode": {
    "name": "ipython",
    "version": 3
   },
   "file_extension": ".py",
   "mimetype": "text/x-python",
   "name": "python",
   "nbconvert_exporter": "python",
   "pygments_lexer": "ipython3",
   "version": "3.8.6"
  }
 },
 "nbformat": 4,
 "nbformat_minor": 4
}
